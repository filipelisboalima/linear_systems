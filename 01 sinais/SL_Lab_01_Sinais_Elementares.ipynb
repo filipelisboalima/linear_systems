{
 "cells": [
  {
   "cell_type": "markdown",
   "metadata": {
    "deletable": true,
    "editable": true
   },
   "source": [
    "# Sinais Elementares e Operações Básicas"
   ]
  },
  {
   "cell_type": "markdown",
   "metadata": {
    "deletable": true,
    "editable": true
   },
   "source": [
    "## Objetivos"
   ]
  },
  {
   "cell_type": "markdown",
   "metadata": {
    "deletable": true,
    "editable": true
   },
   "source": [
    "<ul><li>Estudar os sinais elementares de tempo contínuo e discreto;</li>\n",
    "<li>Realizar simulações computacionais de geração de sinais elementares;</li>\n",
    "<li>Realizar operações básicas com sinais elementares.</li>"
   ]
  },
  {
   "cell_type": "markdown",
   "metadata": {
    "deletable": true,
    "editable": true
   },
   "source": [
    "## Fundamentação Teórica"
   ]
  },
  {
   "cell_type": "markdown",
   "metadata": {
    "deletable": true,
    "editable": true
   },
   "source": [
    "### Sinais Elementares"
   ]
  },
  {
   "cell_type": "markdown",
   "metadata": {
    "deletable": true,
    "editable": true
   },
   "source": [
    "Os sinais elementares aparecem com maior frequência no estudo dos sistemas lineares, dentre os quais se destacam: o degrau unitário, o impulso unitário, a rampa, os sinais exponenciais e senoidais. Esses sinais são usados na construção de sinais mais complexos.\n",
    "<ul><li>**Impulso Unitário** (Delta de Dirac)</li></ul>"
   ]
  },
  {
   "cell_type": "markdown",
   "metadata": {
    "deletable": true,
    "editable": true
   },
   "source": [
    "O sinal **Impulso Unitário** de tempo contínuo, $\\delta(t)$ (delta minúsculo), também é conhecido como função Delta de Dirac, é definido pelas seguintes relações:"
   ]
  },
  {
   "cell_type": "markdown",
   "metadata": {
    "deletable": true,
    "editable": true
   },
   "source": [
    "$$\\delta(t)=0\\;\\;\\;\\textrm{para}\\;\\;t\\neq0$$"
   ]
  },
  {
   "cell_type": "markdown",
   "metadata": {
    "deletable": true,
    "editable": true
   },
   "source": [
    "$$\\int_{-\\infty}^{\\infty}\\delta(t)dt=1$$"
   ]
  },
  {
   "cell_type": "code",
   "execution_count": null,
   "metadata": {
    "collapsed": true,
    "deletable": true,
    "editable": true
   },
   "outputs": [],
   "source": [
    "% matplotlib inline\n",
    "from numpy import linspace, zeros, pi, cos, exp\n",
    "from pylab import plot, grid, xlabel, ylabel, title, subplot, tight_layout, legend"
   ]
  },
  {
   "cell_type": "code",
   "execution_count": null,
   "metadata": {
    "collapsed": false,
    "deletable": true,
    "editable": true
   },
   "outputs": [],
   "source": [
    "'''Impulso Unitário Contínuo (Delta de Dirac)'''\n",
    "t = linspace(-3,3,1000)\n",
    "dD = zeros(1000,dtype=float)     # delta de Dirac\n",
    "dD[len(dD)/2] = 1.               # impulso de área 1 na origem (t = 0)\n",
    "\n",
    "plot(t,dD); plot(0.,1.,'^'); axis((-3.5,3.5,-0.5,1.5)); grid('on')\n",
    "xlabel('$t$',fontsize=16); ylabel('$\\delta(t)$',fontsize=16); title(u'Impulso Unitário')"
   ]
  },
  {
   "cell_type": "markdown",
   "metadata": {
    "deletable": true,
    "editable": true
   },
   "source": [
    "<ul><li>**Degrau Unitário** (Função de Heaviside)</li>\n",
    "\n",
    "O sinal **Degrau Unitário** de tempo contínuo, comumente representado por $u(t)$, é definido por:\n"
   ]
  },
  {
   "cell_type": "markdown",
   "metadata": {
    "deletable": true,
    "editable": true
   },
   "source": [
    "$$u(t)=\\left\\{\\begin{matrix}\n",
    "1,\\;\\;t\\geq0\\\\ \n",
    "0,\\;\\;t<0\n",
    "\\end{matrix}\\right.$$"
   ]
  },
  {
   "cell_type": "code",
   "execution_count": null,
   "metadata": {
    "collapsed": false,
    "deletable": true,
    "editable": true
   },
   "outputs": [],
   "source": [
    "'''Degrau Unitário Contínuo (Heaviside)'''\n",
    "t = linspace(-5,5,1000)\n",
    "u = zeros(1000,dtype=float)      # degrau unitário: u(t)\n",
    "u[t>=0] = 1.                     # impulso de área 1 na origem (t = 0)\n",
    "plot(t,u); axis((-5.5,5.5,-0.5,1.5)); grid('on')\n",
    "xlabel('$t$',fontsize=16); ylabel('$\\delta(t)$',fontsize=16); title(u'Degrau Unitário')"
   ]
  },
  {
   "cell_type": "markdown",
   "metadata": {
    "deletable": true,
    "editable": true
   },
   "source": [
    "Este sinal pode representar o fechamento de uma chave, colocada em série com uma carga e uma fonte de alimentação de valor  $v_s$, conforme Figura 1. Se o fechamento ocorre no instante $t=0$, então:"
   ]
  },
  {
   "cell_type": "markdown",
   "metadata": {
    "deletable": true,
    "editable": true
   },
   "source": [
    "$$v_{out}(t)=\\left\\{\\begin{matrix}\n",
    "0,\\;\\;\\;-\\infty\\lt t\\lt0\\\\ \n",
    "v_s,\\;\\;\\;0\\leq t<\\infty\n",
    "\\end{matrix}\\right.$$"
   ]
  },
  {
   "cell_type": "markdown",
   "metadata": {
    "deletable": true,
    "editable": true
   },
   "source": [
    "<img src=\"img\\circuito1.png\"><img src=\"img\\circuito1_vout.png\">"
   ]
  },
  {
   "cell_type": "markdown",
   "metadata": {
    "deletable": true,
    "editable": true
   },
   "source": [
    "<ul><li>**Rampa**</li>\n",
    "\n",
    "O sinal **Rampa** de tempo contínuo é geralmente denotado por $r(t)$, é definido por:\n"
   ]
  },
  {
   "cell_type": "markdown",
   "metadata": {
    "deletable": true,
    "editable": true
   },
   "source": [
    "$$r(t)=\\left\\{\\begin{matrix}\n",
    "t,\\;\\;t\\geq0\\\\ \n",
    "0,\\;\\;t<0\n",
    "\\end{matrix}\\right.$$"
   ]
  },
  {
   "cell_type": "code",
   "execution_count": null,
   "metadata": {
    "collapsed": false,
    "deletable": true,
    "editable": true
   },
   "outputs": [],
   "source": [
    "'''Rampa de inclinação unitária'''\n",
    "t = linspace(-5,5,1000)\n",
    "r = t                         # rampa\n",
    "plot(t,r); axis((-5.5,5.5,-5.5,5.5)); grid('on')\n",
    "xlabel('$t$',fontsize=16); ylabel('$r(t)$',fontsize=16); title(u'Rampa')"
   ]
  },
  {
   "cell_type": "markdown",
   "metadata": {
    "deletable": true,
    "editable": true
   },
   "source": [
    "<ul><li>**Triangular**</li>\n",
    "\n",
    "O sinal **triangular** de tempo contínuo pode ser descrito por:\n"
   ]
  },
  {
   "cell_type": "markdown",
   "metadata": {
    "deletable": true,
    "editable": true
   },
   "source": [
    "$$\\Delta(t)=\\left\\{\\begin{matrix}\n",
    "t+2,\\;\\;-2< t < 0\\\\\n",
    "-t+2,\\;\\;0\\leq t \\lt 2\\\\ \n",
    "0,\\;\\;\\textrm{caso contrário}\n",
    "\\end{matrix}\\right.$$"
   ]
  },
  {
   "cell_type": "code",
   "execution_count": null,
   "metadata": {
    "collapsed": false,
    "deletable": true,
    "editable": true
   },
   "outputs": [],
   "source": [
    "'''Sinal Triangular de base 4'''\n",
    "t = linspace(-5,5,1000)\n",
    "s = zeros(1000)                                # sinal triangular\n",
    "s[(t>=-2)*(t<0)] = t[(t>=-2)*(t<0)] + 2        # subida: -1 < t < 0\n",
    "s[(t>=0)*(t<2)] = -(t[(t>=0)*(t<2)] - 2)       # descida: 0 < t < 1\n",
    "\n",
    "plot(t,s); grid('on')\n",
    "xlabel('$t$',fontsize=16); ylabel('$\\Delta(t)$',fontsize=16); title('Sinal Triangular')"
   ]
  },
  {
   "cell_type": "markdown",
   "metadata": {
    "deletable": true,
    "editable": true
   },
   "source": [
    "<ul><li>**Senóide**</li>\n",
    "\n",
    "O sinal **senoidal** de tempo contínuo de período $T=\\frac{2\\pi}{\\omega}$ e fase $\\theta$ pode ser descrito por:\n"
   ]
  },
  {
   "cell_type": "markdown",
   "metadata": {
    "deletable": true,
    "editable": true
   },
   "source": [
    "$$x(t)=A.cos(\\omega.t+\\theta)$$"
   ]
  },
  {
   "cell_type": "code",
   "execution_count": null,
   "metadata": {
    "collapsed": false,
    "deletable": true,
    "editable": true
   },
   "outputs": [],
   "source": [
    "'''Senóide'''\n",
    "t = linspace(-5,5,1000)\n",
    "A = 2.; f = 0.5; omega = 2*pi*f; fase = pi/4\n",
    "x = A*cos(omega*t + fase)                  # cossenóide\n",
    "plot(t,x); axis((-5.5,5.5,-2.5,2.5)); grid('on')\n",
    "xlabel('$t$',fontsize=16); ylabel('$x(t)$',fontsize=16); title(u'Cossenóide')"
   ]
  },
  {
   "cell_type": "markdown",
   "metadata": {
    "deletable": true,
    "editable": true
   },
   "source": [
    "<ul><li>**Senóide Exponencialmente Amortecida**</li>\n",
    "\n",
    "A multiplicação de uma senóide por um sinal exponencial decrescente resulta no sinal **Senoidal Exponencialmente Amortecido**, que é descrito pela equação:\n"
   ]
  },
  {
   "cell_type": "markdown",
   "metadata": {
    "deletable": true,
    "editable": true
   },
   "source": [
    "$$x(t)=e^{-\\alpha t}A.cos(\\omega.t+\\theta),\\;\\;\\;\\;\\textrm{para}\\;\\;\\;\\alpha>0$$"
   ]
  },
  {
   "cell_type": "code",
   "execution_count": null,
   "metadata": {
    "collapsed": false,
    "deletable": true,
    "editable": true
   },
   "outputs": [],
   "source": [
    "'''Senóide Exponencialmente Amortecida. '''\n",
    "t = linspace(-5,5,1000)\n",
    "A = 2.; f = 1; omega = 2*pi*f; fase = pi/4; alfa = 0.5\n",
    "y = exp(-alfa*t)*A*cos(omega*t + fase)                  # cossenóide exponencialmente amortecida\n",
    "plot(t,y); grid('on')\n",
    "xlabel('$t$',fontsize=16); ylabel('$y(t)$',fontsize=16); title(u'Cossenóide Exp. Amortecida')"
   ]
  },
  {
   "cell_type": "markdown",
   "metadata": {
    "deletable": true,
    "editable": true
   },
   "source": [
    "O gráfico anterior mostra a forma de onda do sinal exponencialmente amortecida com amplitude $\\;A=2,\\;f=1\\,\\textrm{Hz},\\;\\theta=\\pi/4,\\;\\alpha=0,5$.  <p>Para o tempo crescente $t$, a amplitude da oscilação senoidal decresce de maneira exponencial, aproximando-se de zero no tempo infinito."
   ]
  },
  {
   "cell_type": "markdown",
   "metadata": {
    "deletable": true,
    "editable": true
   },
   "source": [
    "### Operações Básicas com Sinais"
   ]
  },
  {
   "cell_type": "markdown",
   "metadata": {
    "deletable": true,
    "editable": true
   },
   "source": [
    "<h3 style=\"color:Tomato;\">Variável Dependente:"
   ]
  },
  {
   "cell_type": "markdown",
   "metadata": {
    "deletable": true,
    "editable": true
   },
   "source": [
    "<ul><li>**Mudança da  Amplitude**:\t$y(t)=c.x(t)$, onde $c$ é um valor escalar (fator de escala).</li>\n",
    "\n",
    "<p>Os amplificadores eletrônicos realizam esse tipo de operação nos sinais. Um resistor também realiza essa operação, em que $x(t)$ é a corrente, $c$ é a resistência, e $y(t)$ é a tensão nos terminais do resistor.\n",
    "<p>\n",
    "<li>**Adição**:\t$y(t)=x_1(t)+x_2(t)$</li>\n",
    "\n",
    "<p>Misturadores (*mixers*) realizam a soma de sinais, combinando sinais de instrumentos musicais e microfones (mixers de áudio).\n",
    "<p>\n",
    "<li>**Multiplicação**: $y(t)=x_1(t).x_2(t)$</li>\n",
    "\n",
    "<p>Sinais de rádio AM são obtidos a partir da multiplicação de um sinal de áudio (música, por exemplo) multiplicado por uma onda portadora (de alta frequência, ou seja, a frequência de sintonia da emissora de rádio).\n",
    "<p>\n",
    "<li>**Diferenciação**:  $\\frac{d}{dt}x(t)$</li>\n",
    "\n",
    "A tensão nos terminais de um indutor é obtida através da diferenciação da corrente que o atravessa em relação ao tempo: $v_L(t)=L.\\frac{d}{dt}i(t)$<p>\n",
    "\n",
    "<li>**Integração**: $\\int_{-\\infty}^t x(\\tau)d\\tau$</li>\n",
    "<p>A tensão nos terminais de um capacitor é obtida através da integração da corrente que o atravessa em relação ao tempo: $v_C(t)=\\frac{1}{C}\\int_{-\\infty}^t i(\\tau)d\\tau$"
   ]
  },
  {
   "cell_type": "markdown",
   "metadata": {
    "deletable": true,
    "editable": true
   },
   "source": [
    "<h3 style=\"color:Tomato;\">Variável Independente:"
   ]
  },
  {
   "cell_type": "markdown",
   "metadata": {
    "deletable": true,
    "editable": true
   },
   "source": [
    "<ul><li>**Deslocamento Temporal**:\t$y(t)=x(t-t_0)$, se $t_0>0$ então $y(t)$ será uma versão atrasada no tempo do sinal original, $x(t)$, <br>e se $t_0<0$ então $y(t)$ será uma versão adiantada no tempo, de $x(t)$. "
   ]
  },
  {
   "cell_type": "code",
   "execution_count": 4,
   "metadata": {
    "collapsed": false,
    "deletable": true,
    "editable": true
   },
   "outputs": [
    {
     "name": "stdout",
     "output_type": "stream",
     "text": [
      "Populating the interactive namespace from numpy and matplotlib\n"
     ]
    },
    {
     "data": {
      "image/png": "[encoded data removed]",
      "text/plain": [
       "<matplotlib.figure.Figure at 0x8cdfe30>"
      ]
     },
     "metadata": {},
     "output_type": "display_data"
    }
   ],
   "source": [
    "% pylab inline\n",
    "'''Sinal Triangular - Atrasado e Adiantado no tempo'''\n",
    "from numpy import linspace, zeros\n",
    "from pylab import plot, grid, xlabel, ylabel, title, subplot, subplots, tight_layout \n",
    "\n",
    "def triang(t,base=2,t0=0):\n",
    "  x = zeros(len(t))\n",
    "  x[(t-t0>=-base/2)*(t-t0<0)] = t[(t>=-base/2)*(t<0)] + base/2        # subida: -base/2 < t < 0\n",
    "  x[(t-t0>=0)*(t-t0< base/2)] = -(t[(t>=0)*(t<base/2)] - base/2)      # descida: 0 < t < base/2\n",
    "  return x\n",
    "  \n",
    "t = linspace(-5,5,1000)\n",
    "s = triang(t,6)                                                       # sinal triangular de base 6, centrado em 0 (zero)\n",
    "\n",
    "subplots(figsize=(14,6))\n",
    "subplot(131); plot(t,s); grid('on')\n",
    "xlabel('$t$',fontsize=16); ylabel('$\\Delta(t)$',fontsize=16); title('Triangular')\n",
    "\n",
    "satrasado = triang(t,4,2)                                             # sinal triangular de base 4, atrasado de 2 unid. tempo\n",
    "subplot(132); plot(t,satrasado); grid('on')\n",
    "xlabel('$t$',fontsize=16); ylabel('$\\Delta(t)$',fontsize=16); title('Triang. Atrasado')\n",
    "\n",
    "sadiantado = triang(t,4,-3)                                           # sinal triangular de base 4, atrasado de 2 unid. tempo\n",
    "subplot(133); plot(t,sadiantado); grid('on')\n",
    "xlabel('$t$',fontsize=16); ylabel('$\\Delta(t)$',fontsize=16); title('Triang. Adiantado')\n",
    "\n",
    "tight_layout()"
   ]
  },
  {
   "cell_type": "markdown",
   "metadata": {
    "deletable": true,
    "editable": true
   },
   "source": [
    "<ul><li>**Mudança de Escala Temporal**:\t$y(t)=x(a.t)$, se $a>1$ então $y(t)$ será uma versão comprimida no tempo, do sinal $x(t)$, <br>e se $0<a<1$ então $y(t)$ será uma versão expandida no tempo, de $x(t)$. "
   ]
  },
  {
   "cell_type": "code",
   "execution_count": 6,
   "metadata": {
    "collapsed": false,
    "deletable": true,
    "editable": true
   },
   "outputs": [
    {
     "data": {
      "image/png": "[encoded data removed]",
      "text/plain": [
       "<matplotlib.figure.Figure at 0x92fccb0>"
      ]
     },
     "metadata": {},
     "output_type": "display_data"
    }
   ],
   "source": [
    "'''Sinal Triangular - Comprimido e Expandido no tempo'''\n",
    "from numpy import linspace, zeros\n",
    "from pylab import plot, grid, xlabel, ylabel, title, subplot, subplots, tight_layout, legend \n",
    "\n",
    "t = linspace(-5,5,1000)\n",
    "s = zeros(1000)                                # sinal triangular\n",
    "s[(t>=-2)*(t<0)] = t[(t>=-2)*(t<0)] + 2        # subida: -2 < t < 0\n",
    "s[(t>=0)*(t<2)] = -(t[(t>=0)*(t<2)] - 2)       # descida: 0 < t < 2\n",
    "\n",
    "subplots(figsize=(14,6))\n",
    "subplot(131); plot(t,s); grid('on')\n",
    "xlabel('$t$',fontsize=16); ylabel('$\\Delta(t)$',fontsize=16); title('Triangular')\n",
    "\n",
    "sc = zeros(1000)                               # sinal triangular comprimido - escala 2\n",
    "sc[250:750] = s[::2]\n",
    "subplot(132); plot(t,sc); grid('on')\n",
    "xlabel('$t$',fontsize=16); ylabel('$\\Delta(t)$',fontsize=16); title('Triang. Comprimido')\n",
    "\n",
    "se = zeros(1000)                               # sinal triangular estendido - escala 1/2\n",
    "se[0::2] = s[250:750]\n",
    "se[1::2] = s[250:750]\n",
    "subplot(133); plot(t,se); grid('on')\n",
    "xlabel('$t$',fontsize=16); ylabel('$\\Delta(t)$',fontsize=16); title('Triang. Expandido')\n",
    "tight_layout()"
   ]
  },
  {
   "cell_type": "markdown",
   "metadata": {
    "deletable": true,
    "editable": true
   },
   "source": [
    "### Exercícios"
   ]
  },
  {
   "cell_type": "markdown",
   "metadata": {
    "deletable": true,
    "editable": true
   },
   "source": [
    "<ol>\n",
    "<li>1. Trace o gráfico do sinal janela de base 3 e centrado em $t=3/2$: <p>$w(t)=u(t-3)-u(t)$:</li>"
   ]
  },
  {
   "cell_type": "code",
   "execution_count": null,
   "metadata": {
    "collapsed": false,
    "deletable": true,
    "editable": true
   },
   "outputs": [],
   "source": [
    "'''Sinal Janela'''\n",
    "t = linspace(-5,5,1000)\n",
    "u = zeros(1000)\n",
    "ua = zeros(1000)\n",
    "u[t>=0] = 1.                                   # sinal degrau\n",
    "ua[t>=3] = 1.                                  # sinal degrau atrasado de 3 unidades de tempo\n",
    "\n",
    "plot(t,u-ua); grid('on'); axis((-5.5,5.5,-0.5,1.5))\n",
    "xlabel('$t$',fontsize=16); ylabel('$w(t)$',fontsize=16); title('Sinal Janela')"
   ]
  },
  {
   "cell_type": "markdown",
   "metadata": {
    "deletable": true,
    "editable": true
   },
   "source": [
    "<li>2. Trace o gráfico do oposto do sinal janela de base 3 e centrado em $t=3/2$: <p>$w(t)=-[u(t-3)-u(t)]=u(t)-u(t-3)$:</li>"
   ]
  },
  {
   "cell_type": "code",
   "execution_count": null,
   "metadata": {
    "collapsed": false,
    "deletable": true,
    "editable": true
   },
   "outputs": [],
   "source": [
    "'''Oposto do Sinal Janela'''\n",
    "t = linspace(-5,5,1000)\n",
    "u = zeros(1000)\n",
    "ua = zeros(1000)\n",
    "u[t>=0] = 1.                                   # sinal degrau\n",
    "ua[t>=3] = 1.                                  # sinal degrau atrasado\n",
    "\n",
    "plot(t,ua-u); grid('on'); axis((-5.5,5.5,-1.5,1.5))\n",
    "xlabel('$t$',fontsize=16); ylabel('$w(t)$',fontsize=16); title('Oposto do Sinal Janela')"
   ]
  },
  {
   "cell_type": "markdown",
   "metadata": {
    "deletable": true,
    "editable": true
   },
   "source": [
    "<li>3. Trace o gráfico do sinal janela de base 3 e centrado em $t=3/2$ revertido temporalmente: <p>$w(-t)=u(-t-3)-u(-t)$:</li>"
   ]
  },
  {
   "cell_type": "code",
   "execution_count": null,
   "metadata": {
    "collapsed": false,
    "deletable": true,
    "editable": true
   },
   "outputs": [],
   "source": [
    "'''Sinal Janela Revertido'''\n",
    "t = linspace(-5,5,1000)\n",
    "u = zeros(1000)\n",
    "ua = zeros(1000)\n",
    "u[t>=0] = 1.                                   # sinal degrau\n",
    "ua[t>=3] = 1.                                  # sinal degrau atrasado\n",
    "\n",
    "plot(t,u-ua,'-.',lw=2); grid('on'); axis((-5.5,5.5,-0.5,1.5))\n",
    "xlabel('$t$',fontsize=16); ylabel('$w(t)$',fontsize=16); title('Sinal Janela Revertido')\n",
    "plot(-t,u-ua,'r',lw=3)\n",
    "legend(('Original','Revertido'))"
   ]
  },
  {
   "cell_type": "code",
   "execution_count": null,
   "metadata": {
    "collapsed": true,
    "deletable": true,
    "editable": true
   },
   "outputs": [],
   "source": []
  }
 ],
 "metadata": {
  "kernelspec": {
   "display_name": "Python 2",
   "language": "python",
   "name": "python2"
  },
  "language_info": {
   "codemirror_mode": {
    "name": "ipython",
    "version": 2
   },
   "file_extension": ".py",
   "mimetype": "text/x-python",
   "name": "python",
   "nbconvert_exporter": "python",
   "pygments_lexer": "ipython2",
   "version": "2.7.9"
  }
 },
 "nbformat": 4,
 "nbformat_minor": 2
}
