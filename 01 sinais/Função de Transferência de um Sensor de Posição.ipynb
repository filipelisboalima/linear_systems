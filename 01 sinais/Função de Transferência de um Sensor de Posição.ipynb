{
 "cells": [
  {
   "cell_type": "markdown",
   "metadata": {
    "deletable": true,
    "editable": true
   },
   "source": [
    "# Função de Transferência de um Sensor de Posição"
   ]
  },
  {
   "cell_type": "markdown",
   "metadata": {
    "deletable": true,
    "editable": true
   },
   "source": [
    "Andrés Marrugo, PhD<p>\n",
    "Universidad Tecnológica de Bolívar."
   ]
  },
  {
   "cell_type": "markdown",
   "metadata": {
    "deletable": true,
    "editable": true
   },
   "source": [
    "A função de transferência de um pequeno sensor de posição é avaliada experimentalmente. O sensor é feito a partir de um ímã muito pequeno e a posição em relação à linha central (veja a Figura 1) é sentida pela força horizontal e restauradora do ímã. O ímã é mantido a uma distância fixa, h, da chapa de ferro. As medições são apresentadas na tabela seguinte."
   ]
  },
  {
   "cell_type": "markdown",
   "metadata": {
    "deletable": true,
    "editable": true
   },
   "source": [
    "| Deslocamento, d (mm) | 0,0 | 0,08  | 0,16  | 0,24  | 0,32  | 0,4   | 0,48  | 0,52  |\n",
    "|----------------------|-------------------------------------------------------------|\n",
    "|Força, f (mN)            | 0,0 | 0,576 | 1,147 | 1,677 | 2,187 | 2,648 | 3,089 | 3,295 |\n"
   ]
  },
  {
   "cell_type": "markdown",
   "metadata": {
    "deletable": true,
    "editable": true
   },
   "source": [
    "<img src=\"imagens/sensor_posicao_simples.png\" />"
   ]
  },
  {
   "cell_type": "markdown",
   "metadata": {
    "deletable": true,
    "editable": true
   },
   "source": [
    "Figura 1 - Sensor de posição simples."
   ]
  },
  {
   "cell_type": "markdown",
   "metadata": {
    "deletable": true,
    "editable": true
   },
   "source": [
    "## Procedimentos\n",
    "1. Encontre a função de transferência linear que melhor se adapta a esses dados. \n",
    "2. Encontre uma função de transferência na forma de um polinômio de segunda ordem ($d = a + bf + cf^2$), onde $d$ é o deslocamento e $f$ é a força restauradora, avaliando as constantes $a$, $b$ e $c$. \n",
    "3. Plote os dados originais juntamente com as funções de transferência em (1) e (2) e discuta os erros na escolha da aproximação."
   ]
  },
  {
   "cell_type": "markdown",
   "metadata": {
    "collapsed": true,
    "deletable": true,
    "editable": true
   },
   "source": [
    "### Solução\n",
    "\n",
    "Vamos começar plotando os dados:"
   ]
  },
  {
   "cell_type": "code",
   "execution_count": 20,
   "metadata": {
    "collapsed": false,
    "deletable": true,
    "editable": true
   },
   "outputs": [
    {
     "data": {
      "image/png": "[encoded data removed]",
      "text/plain": [
       "<matplotlib.figure.Figure at 0x8dd56b0>"
      ]
     },
     "metadata": {},
     "output_type": "display_data"
    }
   ],
   "source": [
    "import matplotlib.pylab as plt\n",
    "import numpy as np\n",
    "\n",
    "d = np.array([0,0.08,0.16,0.24,0.32,0.4,0.48,0.52])         # converte uma lista em vetor\n",
    "f = np.array([0,0.576,1.147,1.677,2.187,2.648,3.089,3.295]) # converte uma lista em vetor\n",
    "\n",
    "plt.plot(f,d,'*')\n",
    "plt.xlabel(u'Força (mN)'); plt.ylabel('Deslocamento (mm)')\n",
    "plt.grid('on'); plt.axis([-0.5,3.5,-0.1])\n",
    "plt.show()"
   ]
  },
  {
   "cell_type": "markdown",
   "metadata": {
    "deletable": true,
    "editable": true
   },
   "source": [
    "Podemos ver que os dados são aproximadamente lineares. A função de transferência linear que melhor se ajusta aos dados é encontrada realizando um ajuste linear no sentido dos mínimos quadrados. Se voltarmos ao livro e revisarmos como realizar a aproximação linear das funções de transferência não-lineares."
   ]
  },
  {
   "cell_type": "code",
   "execution_count": 21,
   "metadata": {
    "collapsed": false,
    "deletable": true,
    "editable": true
   },
   "outputs": [
    {
     "data": {
      "text/html": [
       "\n",
       "        <iframe\n",
       "            width=\"100%\"\n",
       "            height=\"400\"\n",
       "            src=\"pdfs/linear-approximation.pdf\"\n",
       "            frameborder=\"0\"\n",
       "            allowfullscreen\n",
       "        ></iframe>\n",
       "        "
      ],
      "text/plain": [
       "<IPython.lib.display.IFrame at 0x8bd32d0>"
      ]
     },
     "execution_count": 21,
     "metadata": {},
     "output_type": "execute_result"
    }
   ],
   "source": [
    "from IPython.display import IFrame\n",
    "IFrame('pdfs/linear-approximation.pdf', width='100%', height=400)"
   ]
  },
  {
   "cell_type": "markdown",
   "metadata": {
    "deletable": true,
    "editable": true
   },
   "source": [
    "Vemos que precisamos ajustar os dados a uma linha de equação $d = a.f + b$, e precisamos calcular os coeficientes $a$ e $b$ que fornecem um melhor ajuste no sentido de mínimos quadrados. Para fazer isso em <b>python</b>, usamos a função <a href=http://docs.scipy.org/doc/numpy/reference/generated/numpy.polyfit.html><b>polyfit</b></a>."
   ]
  },
  {
   "cell_type": "code",
   "execution_count": 8,
   "metadata": {
    "collapsed": false,
    "deletable": true,
    "editable": true
   },
   "outputs": [
    {
     "name": "stdout",
     "output_type": "stream",
     "text": [
      "Os coeficientes são: a = 0.157661058706 e b = -0.0131058771534\n"
     ]
    },
    {
     "data": {
      "image/png": "[encoded data removed]",
      "text/plain": [
       "<matplotlib.figure.Figure at 0x8781750>"
      ]
     },
     "metadata": {},
     "output_type": "display_data"
    }
   ],
   "source": [
    "# polyfit calcula os coeficientes 'a' e 'b' da reta (polinômio de grau=1)\n",
    "a,b = np.polyfit(f,d,1)\n",
    "\n",
    "print u'Os coeficientes são: a =',a,'e b =',b\n",
    "\n",
    "d1 = a*f + b\n",
    "plt.plot(d1,f,':b',label='Linha Ajustada')\n",
    "plt.plot(d,f,'*')\n",
    "plt.ylabel('Deslocamento (mm)')\n",
    "plt.xlabel(u'Força (mN)')\n",
    "plt.axis([0,0.6,0,3])\n",
    "plt.show()"
   ]
  },
  {
   "cell_type": "markdown",
   "metadata": {
    "deletable": true,
    "editable": true
   },
   "source": [
    "Nós obtivemos o ajuste da reta aos dados. Vários pontos não estão exatamente na reta, portanto, há sempre um erro com relação à função de transferência ideal. Provavelmente, um ajuste de segunda ordem pode ser melhor. <p>Para a função de transferência do item (2), $y = a + b.f + c.f^2$, temos que encontrar $a$, $b$ e $c$."
   ]
  },
  {
   "cell_type": "code",
   "execution_count": 9,
   "metadata": {
    "collapsed": false,
    "deletable": true,
    "editable": true
   },
   "outputs": [
    {
     "name": "stdout",
     "output_type": "stream",
     "text": [
      "Os coeficientes são: a = 0.00187368040221 b = 0.126233269703 c = 0.00926531112283\n"
     ]
    }
   ],
   "source": [
    "# polyfit calcula os coeficientes 'a', 'b' e 'c' do polinômio de grau=2\n",
    "c2,b2,a2 = np.polyfit(f,d,2)\n",
    "\n",
    "print u'Os coeficientes são: a =',a2,'b =',b2,'c =',c2"
   ]
  },
  {
   "cell_type": "markdown",
   "metadata": {
    "deletable": true,
    "editable": true
   },
   "source": [
    "Agora vamos plotar as duas curvas..."
   ]
  },
  {
   "cell_type": "code",
   "execution_count": 10,
   "metadata": {
    "collapsed": false,
    "deletable": true,
    "editable": true
   },
   "outputs": [
    {
     "data": {
      "image/png": "[encoded data removed]",
      "text/plain": [
       "<matplotlib.figure.Figure at 0x450b8f0>"
      ]
     },
     "metadata": {},
     "output_type": "display_data"
    }
   ],
   "source": [
    "d2 = a2+b2*f+c2*f**2\n",
    "tf2=plt.plot(f,d2,'--k',label='Ajuste de Seg. Ordem')\n",
    "tf1=plt.plot(f,d1,':b',label='Ajuste Linear')\n",
    "tf0=plt.plot(f,d,'*',label=u'Saída Exata')\n",
    "plt.ylabel('Deslocamento (mm)')\n",
    "plt.xlabel(u'Força (mN)')\n",
    "plt.legend(loc='upper left')\n",
    "plt.show()"
   ]
  },
  {
   "cell_type": "markdown",
   "metadata": {
    "deletable": true,
    "editable": true
   },
   "source": [
    "Agora vamos calcular os erros..."
   ]
  },
  {
   "cell_type": "code",
   "execution_count": 14,
   "metadata": {
    "collapsed": false,
    "deletable": true,
    "editable": true
   },
   "outputs": [
    {
     "name": "stdout",
     "output_type": "stream",
     "text": [
      "Erro médio do Ajuste Linear :  0.00877563500446\n",
      "Erro máximo do Ajuste Linear:  0.0136126887162\n",
      "Erro médio do Ajuste de Seg. Ordem :  0.00136479637705\n",
      "Erro máximo do Ajuste de Seg. Ordem:  0.00234194838585\n"
     ]
    }
   ],
   "source": [
    "# Erro do ajuste linear\n",
    "erro1 = np.sum(np.abs(d - d1))/len(d)\n",
    "erro1_max = np.max(np.abs(d - d1))\n",
    "print u'Erro médio do Ajuste Linear : ', erro1\n",
    "print u'Erro máximo do Ajuste Linear: ', erro1_max\n",
    "\n",
    "# Erro do ajuste do polinômio de segundo grau\n",
    "erro2 = np.sum(np.abs(d - d2))/len(d)\n",
    "erro2_max = np.max(np.abs(d - d2))\n",
    "print u'Erro médio do Ajuste de Seg. Ordem : ', erro2\n",
    "print u'Erro máximo do Ajuste de Seg. Ordem: ', erro2_max\n"
   ]
  },
  {
   "cell_type": "markdown",
   "metadata": {
    "deletable": true,
    "editable": true
   },
   "source": [
    "Devido à não linearidade dos dados, os erros médios e máximos são menores para um ajuste polinomial de segundo grau (erro 2). No entanto, o erro para um ajuste linear pode ser considerado aceitável, mantendo uma função de transferência simples e linear."
   ]
  },
  {
   "cell_type": "markdown",
   "metadata": {
    "deletable": true,
    "editable": true
   },
   "source": [
    "##### Traduzido por: Prof. Cláudio A. Fleury, Dez/2018"
   ]
  },
  {
   "cell_type": "markdown",
   "metadata": {
    "collapsed": true,
    "deletable": true,
    "editable": true
   },
   "source": [
    "Esta página foi escrita no <a Href=https://jupyter.org/>Notebook IPython Jupyter</a>. Para baixar o notebook, clique na opção <i>Download Notebook</i> no menu superior ou obtenha no repositório do github."
   ]
  },
  {
   "cell_type": "code",
   "execution_count": null,
   "metadata": {
    "collapsed": true
   },
   "outputs": [],
   "source": []
  }
 ],
 "metadata": {
  "kernelspec": {
   "display_name": "Python 2",
   "language": "python",
   "name": "python2"
  },
  "language_info": {
   "codemirror_mode": {
    "name": "ipython",
    "version": 2
   },
   "file_extension": ".py",
   "mimetype": "text/x-python",
   "name": "python",
   "nbconvert_exporter": "python",
   "pygments_lexer": "ipython2",
   "version": "2.7.9"
  }
 },
 "nbformat": 4,
 "nbformat_minor": 2
}
