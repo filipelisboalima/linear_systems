{
 "cells": [
  {
   "cell_type": "markdown",
   "metadata": {},
   "source": [
    "# Função de Transferência de um Sensor de Posição"
   ]
  },
  {
   "cell_type": "markdown",
   "metadata": {},
   "source": [
    "<font size=1>Fonte: Andrés Marrugo, PhD, Universidad Tecnológica de Bolívar.</font>"
   ]
  },
  {
   "cell_type": "markdown",
   "metadata": {},
   "source": [
    "A **função de transferência** de um pequeno sensor de posição é avaliada experimentalmente.  \n",
    "O sensor é feito a partir de um ímã pequeno instalado numa posição em relação à linha central (Figura 1) que é sentida pela força horizontal e restauradora do ímã. O ímã é mantido a uma distância fixa, <tt>h</tt>, da chapa de ferro. As medições realizadas no experimento são apresentadas na tabela seguinte."
   ]
  },
  {
   "cell_type": "markdown",
   "metadata": {},
   "source": [
    "Deslocamento, d (mm) | 0,0 | 0,08 | 0,16 | 0,24 | 0,32 | 0,4 | 0,48 | 0,52\n",
    "----|----|----|----|----|----|----|----|----\n",
    "Força, f (mN) | 0,0 | 0,576 | 1,147 | 1,677 | 2,187 | 2,648 | 3,089 | 3,295"
   ]
  },
  {
   "cell_type": "markdown",
   "metadata": {},
   "source": [
    "<img src=\"img/sensor_posicao_simples.png\" />"
   ]
  },
  {
   "cell_type": "markdown",
   "metadata": {},
   "source": [
    "Figura 1 - Sensor de Posição"
   ]
  },
  {
   "cell_type": "markdown",
   "metadata": {},
   "source": [
    "## Procedimentos\n",
    "1. Encontre a função de transferência linear, $d=a+b.f$, onde $d$ é o deslocamento e $f$ é a força restauradora, que melhor se adapta a esses dados. \n",
    "2. Encontre uma função de transferência na forma de um polinômio de segunda ordem, $d = a + bf + cf^2$, onde $d$ é o deslocamento e $f$ é a força restauradora, avaliando as constantes $a$, $b$ e $c$. \n",
    "3. Plote os dados originais juntamente com as funções de transferência em (1) e (2) e discuta os erros na escolha da aproximação."
   ]
  },
  {
   "cell_type": "code",
   "execution_count": 1,
   "metadata": {},
   "outputs": [
    {
     "name": "stdout",
     "output_type": "stream",
     "text": [
      "Populating the interactive namespace from numpy and matplotlib\n"
     ]
    }
   ],
   "source": [
    "%pylab inline\n",
    "#import pylab as plt\n",
    "#import numpy as np"
   ]
  },
  {
   "cell_type": "markdown",
   "metadata": {
    "collapsed": true
   },
   "source": [
    "### Solução\n",
    "\n",
    "Vamos começar plotando os dados:"
   ]
  },
  {
   "cell_type": "code",
   "execution_count": 2,
   "metadata": {},
   "outputs": [
    {
     "data": {
      "image/png": "[encoded data removed]",
      "text/plain": [
       "<Figure size 432x288 with 1 Axes>"
      ]
     },
     "metadata": {
      "needs_background": "light"
     },
     "output_type": "display_data"
    }
   ],
   "source": [
    "dist = array([0,0.08,0.16,0.24,0.32,0.4,0.48,0.52])          # converte uma lista em vetor\n",
    "forca = array([0,0.576,1.147,1.677,2.187,2.648,3.089,3.295]) # converte uma lista em vetor\n",
    "\n",
    "plot(dist,forca,'*');\n",
    "ylabel(u'Força (mN)'); xlabel('Deslocamento (mm)');\n",
    "grid('on'); #axis([-0.5,3.5,-0.1,0.6])\n",
    "show();"
   ]
  },
  {
   "cell_type": "markdown",
   "metadata": {},
   "source": [
    "Podemos ver que os dados são aproximadamente lineares. A função de transferência linear que melhor se ajusta aos dados é encontrada realizando um ajuste linear no sentido dos mínimos quadrados. Se voltarmos ao livro e revisarmos como realizar a aproximação linear das funções de transferência não-lineares."
   ]
  },
  {
   "cell_type": "code",
   "execution_count": 3,
   "metadata": {
    "scrolled": true
   },
   "outputs": [
    {
     "data": {
      "text/html": [
       "\n",
       "        <iframe\n",
       "            width=\"100%\"\n",
       "            height=\"100%\"\n",
       "            src=\"pdf/linear-approximation.pdf\"\n",
       "            frameborder=\"0\"\n",
       "            allowfullscreen\n",
       "        ></iframe>\n",
       "        "
      ],
      "text/plain": [
       "<IPython.lib.display.IFrame at 0x92a1dad278>"
      ]
     },
     "execution_count": 3,
     "metadata": {},
     "output_type": "execute_result"
    }
   ],
   "source": [
    "from IPython.display import IFrame\n",
    "IFrame('pdf/linear-approximation.pdf', width='100%', height='100%')\n",
    "#IFrame('c:/Desktop/topicos_em_controle_I.pdf', width=500, height=500)"
   ]
  },
  {
   "cell_type": "markdown",
   "metadata": {},
   "source": [
    "Vemos que precisamos ajustar os dados a uma linha de equação $d = a.f + b$, e precisamos calcular os coeficientes $a$ e $b$ que fornecem um melhor ajuste no sentido de mínimos quadrados. Para fazer isso em <b>python</b>, usamos a função <a href=http://docs.scipy.org/doc/numpy/reference/generated/numpy.polyfit.html><b>polyfit</b></a>."
   ]
  },
  {
   "cell_type": "code",
   "execution_count": 4,
   "metadata": {},
   "outputs": [
    {
     "name": "stdout",
     "output_type": "stream",
     "text": [
      "Os coeficientes calculados são: a = 0.15766105870626124 e b = -0.013105877153354043\n"
     ]
    },
    {
     "data": {
      "image/png": "[encoded data removed]",
      "text/plain": [
       "<Figure size 432x288 with 1 Axes>"
      ]
     },
     "metadata": {
      "needs_background": "light"
     },
     "output_type": "display_data"
    }
   ],
   "source": [
    "# polyfit calcula os coeficientes 'a' e 'b' da reta (polinômio de grau=1)\n",
    "import numpy as np\n",
    "a,b = np.polyfit(forca,dist,1)\n",
    "print(u'Os coeficientes calculados são: a =',a,'e b =',b)\n",
    "\n",
    "dist1 = a * forca + b\n",
    "plt.plot(dist1,forca,':b',label='Linha Ajustada')\n",
    "plt.plot(dist,forca,'*')\n",
    "plt.ylabel('Deslocamento (mm)')\n",
    "plt.xlabel(u'Força (mN)')\n",
    "#plt.axis([0,0.6,0,3])\n",
    "plt.show()"
   ]
  },
  {
   "cell_type": "markdown",
   "metadata": {},
   "source": [
    "Nós obtivemos o ajuste da reta aos dados. Vários pontos não estão exatamente na reta, portanto, há sempre um erro com relação à função de transferência ideal. Provavelmente, uma aproximação de segunda ordem pode ser melhor. <p>Para a função de transferência do item (2), $d = a + b.f + c.f^2$, temos que encontrar $a$, $b$ e $c$."
   ]
  },
  {
   "cell_type": "code",
   "execution_count": 6,
   "metadata": {},
   "outputs": [
    {
     "name": "stdout",
     "output_type": "stream",
     "text": [
      "Os coeficientes calculados são: a = 0.001873680402210414 b = 0.12623326970287424 c = 0.00926531112283226\n"
     ]
    }
   ],
   "source": [
    "# polyfit calcula os coeficientes 'a', 'b' e 'c' do polinômio de grau=2\n",
    "c2,b2,a2 = np.polyfit(forca,dist,2)\n",
    "\n",
    "print(u'Os coeficientes calculados são: a =',a2,'b =',b2,'c =',c2)"
   ]
  },
  {
   "cell_type": "markdown",
   "metadata": {},
   "source": [
    "Agora vamos plotar as duas curvas..."
   ]
  },
  {
   "cell_type": "code",
   "execution_count": 7,
   "metadata": {},
   "outputs": [
    {
     "data": {
      "image/png": "[encoded data removed]",
      "text/plain": [
       "<Figure size 432x288 with 1 Axes>"
      ]
     },
     "metadata": {
      "needs_background": "light"
     },
     "output_type": "display_data"
    }
   ],
   "source": [
    "dist2 = a2 + b2 * forca + c2 * forca**2\n",
    "tf2 = plt.plot(dist2,forca,'--k',label='Ajuste de Seg. Ordem')\n",
    "tf1 = plt.plot(dist1,forca,':b',label='Ajuste Linear')\n",
    "tf0 = plt.plot(dist,forca,'*',label=u'Saída Exata')\n",
    "plt.xlabel('Deslocamento (mm)')\n",
    "plt.ylabel(u'Força (mN)')\n",
    "plt.legend(loc='upper left')\n",
    "plt.show()"
   ]
  },
  {
   "cell_type": "markdown",
   "metadata": {},
   "source": [
    "Agora vamos calcular os erros..."
   ]
  },
  {
   "cell_type": "code",
   "execution_count": 8,
   "metadata": {},
   "outputs": [
    {
     "name": "stdout",
     "output_type": "stream",
     "text": [
      "Erro médio do Ajuste Linear :  0.00877563500445958\n",
      "Erro máximo do Ajuste Linear:  0.013612688716223342 \n",
      "\n",
      "Erro médio do Ajuste de Seg. Ordem :  0.0013647963770492882\n",
      "Erro máximo do Ajuste de Seg. Ordem:  0.0023419483858452272\n"
     ]
    }
   ],
   "source": [
    "# Erro do ajuste linear\n",
    "erro1 = np.sum(np.abs(dist - dist1))/len(dist)\n",
    "erro1_max = np.max(np.abs(dist - dist1))\n",
    "print('Erro médio do Ajuste Linear : ', erro1)\n",
    "print('Erro máximo do Ajuste Linear: ', erro1_max, '\\n')\n",
    "\n",
    "# Erro do ajuste do polinômio de segundo grau\n",
    "erro2 = np.sum(np.abs(dist - dist2))/len(dist)\n",
    "erro2_max = np.max(np.abs(dist - dist2))\n",
    "print('Erro médio do Ajuste de Seg. Ordem : ', erro2)\n",
    "print('Erro máximo do Ajuste de Seg. Ordem: ', erro2_max)\n"
   ]
  },
  {
   "cell_type": "markdown",
   "metadata": {},
   "source": [
    "Devido à não linearidade dos dados, os erros médios e máximos são menores para um ajuste polinomial de segundo grau (erro 2). No entanto, o erro para um ajuste linear pode ser considerado aceitável, mantendo uma função de transferência simples e linear."
   ]
  },
  {
   "cell_type": "markdown",
   "metadata": {},
   "source": [
    "##### Traduzido por: Prof. Cláudio A. Fleury, Dez/2018"
   ]
  },
  {
   "cell_type": "markdown",
   "metadata": {
    "collapsed": true
   },
   "source": [
    "Esta página foi escrita no <a Href=https://jupyter.org/>Notebook IPython Jupyter</a>. Para baixar o notebook, clique na opção <i>Download Notebook</i> no menu superior ou obtenha no repositório do github."
   ]
  }
 ],
 "metadata": {
  "kernelspec": {
   "display_name": "Python 3",
   "language": "python",
   "name": "python3"
  },
  "language_info": {
   "codemirror_mode": {
    "name": "ipython",
    "version": 3
   },
   "file_extension": ".py",
   "mimetype": "text/x-python",
   "name": "python",
   "nbconvert_exporter": "python",
   "pygments_lexer": "ipython3",
   "version": "3.7.2"
  }
 },
 "nbformat": 4,
 "nbformat_minor": 2
}
