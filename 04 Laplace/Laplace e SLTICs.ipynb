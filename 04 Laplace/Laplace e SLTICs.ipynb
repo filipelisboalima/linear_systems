{
 "cells": [
  {
   "cell_type": "markdown",
   "metadata": {
    "deletable": true,
    "editable": true
   },
   "source": [
    "# Transformada de Laplace e SLITC's"
   ]
  },
  {
   "cell_type": "markdown",
   "metadata": {
    "deletable": true,
    "editable": true
   },
   "source": [
    "## 1. Introdução"
   ]
  },
  {
   "cell_type": "markdown",
   "metadata": {
    "deletable": true,
    "editable": true
   },
   "source": [
    "### Histórico"
   ]
  },
  {
   "cell_type": "markdown",
   "metadata": {
    "deletable": true,
    "editable": true
   },
   "source": [
    "Pierre-Simon Laplace, nascido em Beaumont-em-Auge, Basse-Normandie, França, 1749; e falecido em 1827, em Paris, França. Matemático com grandes contribuições à probabilidade e à inferência estatística, particularmente na obra Théorie Analytique dês Probabilités. <img src=\"img/fig1.png\">\n",
    "\n",
    "O plano **s** é simplesmente um \n",
    "<a href=\"https://pt.wikipedia.org/wiki/Plano_complexo\">\n",
    "diagrama de Argand</a>,usado para mostrar os valores de **s**. A variável **s** representa a frequência complexa, ou seja, $s=\\sigma+j\\omega$. Como é o usual nos diagramas de Argand, a parte real de **s**, $\\sigma$, é traçado ao longo do eixo horizontal e a parte imaginária, $j\\omega$, ao longo do eixo vertical.\n",
    "Como exemplo, considere um sistema de tempo contínuo com Função de Transferência dada por:\n",
    "$$H(s)=\\frac{s+4}{(s+2)(s+3)}$$\n",
    "<p>Esta Função de Transferência pode ser representada no diagrama do plano **s** por seus polos (raízes do denominador) e zeros (raízes do numerador). <img src=\"img/fig2.png\">\n",
    "\n",
    "Os zeros do sistema são os valores de **s** que fazem o numerador, e também a própria $H(s)$ (Função de Transferência), se anular, enquanto que os polos são os valores de **s** que fazem $H(s)$ a tender ao infinito, ou seja, fazem o denominador tender a zero. A Função de Transferência mostrada como exemplo, tem um único zero em $s=-4$ e dois polos em $s=-2$ e $s=-3$. Nos diagramas de polos e zeros, os polos são tradicionalmente representados por cruzes '**x**' e os zeros por círculos '**o**'.\n",
    "\n",
    "No exemplo mostrado, todos os valores são reais e portanto aparecem sobre o eixo real (horizontal) - mas como seria se a Função de TransferÊncia fosse mais complicada? Por exemplo:\n",
    "$$H(s)=\\frac{s^2+2s+5}{(s+3)(s^2+2s+2)}$$\n",
    "<p>Vamos começar encontrando os zeros dessa Função de Transferência e para tanto vamos igualar o numerador a zero, ou seja, $s^2+2s+5=0$. Essa expressão quadrática tem raízes complexas conjugadas $-1\\pm j2$. Para encontrar os polos igualamos o denominador a zero. Vê-se claramente que tem-se um polo em $s=-3$ (obviamente um polo real). Enquanto que a expressão quadrática $s^2+2s+2=0$ possui dois polos complexos conjugados em $s=-1\\pm j$. Veja o diagrama de polos e zeros dessa Função de Transferência a seguir:\n",
    "<img src=\"img/fig3.png\">\n",
    "<p>Os diagramas de polos e zeros da Função de Transferência de um sistema contém uma grande quantidade de informações sobre o sistema e são extremamente úteis ao projeto e análise de sistemas e sinais."
   ]
  },
  {
   "cell_type": "markdown",
   "metadata": {
    "collapsed": true,
    "deletable": true,
    "editable": true
   },
   "source": [
    "## 2. Transformada de Laplace (TL) \n",
    "<img src=\"img/fig4.png\"; width=200; height=200>"
   ]
  },
  {
   "cell_type": "markdown",
   "metadata": {
    "deletable": true,
    "editable": true
   },
   "source": [
    "### Aplicações"
   ]
  },
  {
   "cell_type": "markdown",
   "metadata": {
    "deletable": true,
    "editable": true
   },
   "source": [
    "<ul><li>Representação alternativa ao domínio do tempo, para Sinais e Sistemas Lineares e Invariantes no Tempo Contínuo (SLITCs).</li>\n",
    "<li>Operação linear muito útil à análise e ao estudo dos SLITCs, e à resolução de Equações Diferenciais Lineares de Coeficientes Constantes (EDLCCs).</li>\n",
    "<li>Usada em Circuitos Elétricos para converter \u000b",
    "EDLCCs em equações algébricas no \u000b",
    "domínio da frequência complexa.</li>"
   ]
  },
  {
   "cell_type": "markdown",
   "metadata": {
    "deletable": true,
    "editable": true
   },
   "source": [
    "### Definição"
   ]
  },
  {
   "cell_type": "markdown",
   "metadata": {
    "deletable": true,
    "editable": true
   },
   "source": [
    "<center>$X(s)=T_L\\{x(t)\\}=\\int_{-\\infty}^{\\infty}x(t).e^{-s.t}dt\\;\\;\\;\\;\\;\\;\\;\\;$(integral imprópria!)</center>\n",
    "<p>onde $s$ é uma variável complexa: $s=\\sigma+j\\omega$, e $\\;\\;j=\\sqrt{-1}$."
   ]
  },
  {
   "cell_type": "markdown",
   "metadata": {
    "deletable": true,
    "editable": true
   },
   "source": [
    "<ul><li>O resultado do cálculo da integral é uma função de $s$.</li>\n",
    "<li>Limites de integração infinitos: $T_L\\{\\cdot\\}$ é chamada de **Transformada Bilateral de Laplace**.</li>\n",
    "<li>O sinal, $x(t)$, e a sua Transformada de Laplace, $X(s)$, formam um par da **Transformada de Laplace**: $\\;\\;x(t)\\longleftrightarrow X(s)$</li>"
   ]
  },
  {
   "cell_type": "markdown",
   "metadata": {
    "deletable": true,
    "editable": true
   },
   "source": [
    "### Convergência"
   ]
  },
  {
   "cell_type": "markdown",
   "metadata": {
    "deletable": true,
    "editable": true
   },
   "source": [
    "Por ser definida por uma integral imprópria a Transf. de Laplace necessita de uma análise de convergência para alguns valores de $s$, ou seja, a TL pode não existir para todo sinal $x(t)$ ou mesmo, ela pode não existir para algumas regiões do plano complexo $s$.\n",
    "\n",
    "<ul><li>Nas Engenharias, os sistemas são causais, e nesses casos o limite inferior da integral é nulo e a TL recebe a denominação de **Transf. Unilateral de Laplace**.</li>\n",
    "<li>A Região de Convergência (RDC) de uma TL é o intervalo de valores da variável complexa $s$ para os quais $X(s)$ (a integral imprópria) converge.</li>\n",
    "<li>A RDC deve ser especificada juntamente com a expressão algébrica da TL, $X(s)$, para se garantir a correspondência unívoca entre os domínios do tempo $x(t)$ e de Laplace $X(s)$.</li>"
   ]
  },
  {
   "cell_type": "markdown",
   "metadata": {
    "deletable": true,
    "editable": true
   },
   "source": [
    "### Exemplos"
   ]
  },
  {
   "cell_type": "markdown",
   "metadata": {
    "deletable": true,
    "editable": true
   },
   "source": [
    "#### TL de um Sinal Exponencial Decrescente, à Direita\n",
    "<img src=\"img/exemplo1.png\"; width=350; style=\"float:left;\"/>\n",
    "<img src=\"img/exemplo1_fig1.png\"; width=250; style=\"float:center;\"/>"
   ]
  },
  {
   "cell_type": "markdown",
   "metadata": {
    "deletable": true,
    "editable": true
   },
   "source": [
    "$T_L\\{e^{-a.t}u(t)\\}=\\frac{1}{s+a},\\;\\;\\;\\textrm{RDC:}\\;\\; \\Re(s)>-a$<img src=\"img/exemplo1_RDC.png\"; width=300; style=\"float:center\">"
   ]
  },
  {
   "cell_type": "markdown",
   "metadata": {
    "deletable": true,
    "editable": true
   },
   "source": [
    "#### TL de um Sinal Exponencial Crescente, à Esquerda\n",
    "<img src=\"img/exemplo1.png\"; width=350; style=\"float:left;\"/>\n",
    "<img src=\"img/exemplo1_fig1.png\"; width=250; style=\"float:center;\"/>"
   ]
  },
  {
   "cell_type": "markdown",
   "metadata": {
    "deletable": true,
    "editable": true
   },
   "source": [
    "$T_L\\{e^{-a.t}u(t)\\}=\\frac{1}{s+a},\\;\\;\\;\\textrm{RDC:}\\;\\; \\Re(s)>-a$<img src=\"img/exemplo1_RDC.png\"; width=300; style=\"float:center\">"
   ]
  },
  {
   "cell_type": "markdown",
   "metadata": {
    "collapsed": true,
    "deletable": true,
    "editable": true
   },
   "source": [
    "## Diagramas de Polos e Zeros e os Sinais Correspondentes no Tempo Contínuo "
   ]
  },
  {
   "cell_type": "markdown",
   "metadata": {},
   "source": [
    "Quando os sinais são transformados para o domínio **s**, isto é, são expressos como funções de **s**, eles então podem ser representados por diagramas de polos e zeros. Esses diagramas contém informações sobre as formas dos sinais e são muito úteis na análise dos sistemas.\n",
    "Para ilustrar esta importante ligação entre diagramas de polos e zeros e formas dos sinais, considere um sinal, $y(t)$, que tem transformada de Laplace $Y(s)$, dada por:\n",
    "\n",
    "$$Y(s)=\\frac{3s^2+8s+14}{(s+2)(s^2+2s+10)}$$\n",
    "\n",
    "Expandindo em frações parciais, teremos:  $$Y(s)=\\frac{1}{s+2}+\\frac{2(s+1)}{s^2+2s+10}=\\frac{1}{s+2}+\\frac{2(s+1)}{(s+1)^2+3^2}$$\n",
    "\n",
    "Por inspeção na tabela de pares de transformada de Laplace, podemos obter a transformada inversa, considerando $y(t)$ um sinal causal:\n",
    "$$y(t)=e^{-2t}+2e^{-t}cos(3t)$$\n",
    "\n",
    "Essa função fatorada pode ser reescrita como:\n",
    "\n",
    "$$Y(s)=\\frac{3(s+1,33+j1,7)(s+1,33-j1,7)}{(s+2)(s+1+j3)(s+1-j3)}$$\n",
    "\n",
    "Então $Y(s)$ tem zeros em $-1,33\\pm j1,7$ e polos  em $-2$ e $-1\\pm j3$.  \n",
    "\n",
    "<img src=\"img/fig5.png\">\n",
    "\n",
    "Portanto, temos um polo em -2 e o termo correspondente no tempo $e^{-2t}$. Também temos dois polos complexos em $-1\\pm j3$ que corresponde ao termo $2e^{-t}cos(3t)$, sendo a parte real do polo como potência da exponencial e a parte imaginária no argumento da função cosseno. Ou seja, o polo em -2 corresponde ao sinal exponencial DC (*direct current*) decrescente e os dois polos complexos conjugados em $-1\\pm j3$ ao termo $2e^{-t}cos(3t)$, ou seja, ao cosseno exponencialmente decrescente.\n",
    "\n",
    "Todos os sinais representados por polos no semi-plano esquerdo são sinais decrescentes, e quanto mais os polos estiverem longe do eixo imaginário, mais negativo será o valor, e mais rapidamente será o decaimento. Se o polo estiver no eixo real então ele representa um sinal DC decrescente. Veja a seguir os diagramas de polos e zeros e seus sinais correspondentes traçados em Python:"
   ]
  },
  {
   "cell_type": "code",
   "execution_count": 26,
   "metadata": {
    "collapsed": false
   },
   "outputs": [
    {
     "data": {
      "image/png": "[encoded data removed]",
      "text/plain": [
       "<matplotlib.figure.Figure at 0xdf7f070>"
      ]
     },
     "metadata": {},
     "output_type": "display_data"
    }
   ],
   "source": [
    "% matplotlib inline\n",
    "import control\n",
    "import numpy\n",
    "import matplotlib.pyplot as plt\n",
    "#import matplotlib as mpl\n",
    "#mpl.style.use('classic')\n",
    "\n",
    "tfx1 = control.tf([1],[1,2])\n",
    "tfx2 = control.tf([2,2],[1,2,10])\n",
    "t = numpy.arange(0,30,.1)\n",
    "plt.figure(figsize=(16,8))\n",
    "plt.subplot(221); control.matlab.pzmap(tfx1)\n",
    "plt.subplot(222); plt.plot(t,numpy.exp(-2*t)); plt.xlabel('Tempo (s)'); plt.title('Resposta $e^{-2t}$')\n",
    "plt.subplot(223); control.matlab.pzmap(tfx2)\n",
    "plt.subplot(224); plt.plot(t,2*numpy.exp(-t)*numpy.cos(3*t)); plt.xlabel('Tempo (s)'); plt.title('Resposta $2e^{-t}.cos(3t)$')\n",
    "\n",
    "plt.show()"
   ]
  },
  {
   "cell_type": "markdown",
   "metadata": {},
   "source": [
    "## Exercícios"
   ]
  },
  {
   "cell_type": "markdown",
   "metadata": {},
   "source": [
    "<ol><li>Um sinal tem transformada de Laplace dada por: $Y(s)=\\frac{2(s+2)}{s(s^2+4s+3}$. Desenhe o diagrama de polos e zeros e a partir dele esboce as formas das componentes individuais do sinal (existem pelo menos três componentes). Use a expansão em frações parciais e a tabela de transformadas de Laplace para obter o sinal no tempo. Trace o sinal resultante em Pythone e confronte com o esboço feito por vc.</li>\n",
    "<p>\n",
    "<li>Um sinal tem transformada de Laplace dada por: $\\frac{6}{(s^2+4)}$. Use as posições dos polos para predizer a forma aproximada do sinal e depois use a tabela de transformadas de Laplace para encontrar a forma exata do sinal no tempo.</li> "
   ]
  },
  {
   "cell_type": "code",
   "execution_count": null,
   "metadata": {
    "collapsed": true
   },
   "outputs": [],
   "source": []
  }
 ],
 "metadata": {
  "kernelspec": {
   "display_name": "Python 2",
   "language": "python",
   "name": "python2"
  },
  "language_info": {
   "codemirror_mode": {
    "name": "ipython",
    "version": 2
   },
   "file_extension": ".py",
   "mimetype": "text/x-python",
   "name": "python",
   "nbconvert_exporter": "python",
   "pygments_lexer": "ipython2",
   "version": "2.7.9"
  }
 },
 "nbformat": 4,
 "nbformat_minor": 2
}
