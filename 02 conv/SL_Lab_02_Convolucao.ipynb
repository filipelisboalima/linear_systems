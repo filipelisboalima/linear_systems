{
 "cells": [
  {
   "cell_type": "markdown",
   "metadata": {
    "deletable": true,
    "editable": true
   },
   "source": [
    "# Sistemas Lineares Invariantes no Tempo e Convolução"
   ]
  },
  {
   "cell_type": "markdown",
   "metadata": {
    "deletable": true,
    "editable": true
   },
   "source": [
    "## Objetivos"
   ]
  },
  {
   "cell_type": "markdown",
   "metadata": {
    "deletable": true,
    "editable": true
   },
   "source": [
    "<ul><li>Estudar e verificar as propriedades de **Linearidade** e **Invariância no Tempo** dos SLIT’s;</li>\n",
    "<li>Estudar a **Resposta ao Impulso Unitário** dos SLIT's;</li>\n",
    "<li>Desenvolver o conceito da **Operação de Convolução** para SLIT’s de tempo discreto.</li>"
   ]
  },
  {
   "cell_type": "markdown",
   "metadata": {
    "deletable": true,
    "editable": true
   },
   "source": [
    "## Fundamentação Teórica"
   ]
  },
  {
   "cell_type": "markdown",
   "metadata": {
    "deletable": true,
    "editable": true
   },
   "source": [
    "### Sistema Linear Invariante no Tempo (SLIT)"
   ]
  },
  {
   "cell_type": "markdown",
   "metadata": {
    "deletable": true,
    "editable": true
   },
   "source": [
    "Um sistema é dito ser **Linear** se ele obedece ao **Princípio da Superposição**: ele é aditivo e é homogêneo. \n",
    "<p>Seja um sistema com entrada $x_1(t)$ associada à saída $y_1(t)$, entrada $x_2(t)$ associada à saída $y_2(t)$, e assim por diante até a N-ésima entrada $x_N(t)$ associada à N-ésima saída $y_N(t)$.  Se a soma das entradas $x_1(t) + x_2(t) + ... + x_N(t)$ tiver associada à saída correspondente à soma $y_1(t) + y_2(t) + .. + y_N(t)$, então o sistema é aditivo, como mostra a Figura 1:\n"
   ]
  },
  {
   "cell_type": "markdown",
   "metadata": {},
   "source": [
    "<figure>\n",
    "  <img src=\"img\\fig.1a.png\" \n",
    "       alt=\"Propriedade da Aditividade\">\n",
    "  <figcaption align=center>\n",
    "    A) Entradas e Saídas\n",
    "  </figcaption>\n",
    "  <img src=\"img\\fig.1b.png\">\n",
    "  <figcaption>\n",
    "    B) Soma das Entradas e Soma das Saídas\n",
    "  </figcaption>\n",
    "  <figcaption>\n",
    "    **Figura 1** - Propriedade da Aditividade\n",
    "  </figcaption>\n",
    "</figure>"
   ]
  },
  {
   "cell_type": "markdown",
   "metadata": {
    "deletable": true,
    "editable": true
   },
   "source": [
    "Se o sistema anterior tiver entrada $x(t)$ associada à saída $y(t)$, e entrada $c.x(t)$ associada à saída $c.y(t)$, então o sistema é dito ser **homogêneo**, como mostra a Figura 2:"
   ]
  },
  {
   "cell_type": "markdown",
   "metadata": {
    "deletable": true,
    "editable": true
   },
   "source": [
    "<figure>\n",
    "<img src=\"img\\fig.2.png\"\n",
    "     alt=\"Propriedade da Homogeneidade\">\n",
    "  <figcaption align=center>\n",
    "    **Figura 2** - Propriedade da Homogeneidade\n",
    "  </figcaption>\n",
    "</figure>"
   ]
  },
  {
   "cell_type": "markdown",
   "metadata": {
    "deletable": true,
    "editable": true
   },
   "source": [
    "Um sistema é dito ser **Invariante no Tempo** se para cada deslocamento de tempo (retardo ou avanço) do sinal de entrada resultar um deslocamento temporal idêntico do sinal de saída. As características de um sistema invariante no tempo não se alteram com o decorrer do tempo (Figura 3)."
   ]
  },
  {
   "cell_type": "markdown",
   "metadata": {},
   "source": [
    "<figure>\n",
    "<img src=\"img\\fig.3.png\"\n",
    "     alt=\"Propriedade da Invariância no Tempo\">\n",
    "  <figcaption align=center>\n",
    "    **Figura 3** - Propriedade da Invariância no Tempo\n",
    "  </figcaption>\n",
    "</figure>"
   ]
  },
  {
   "cell_type": "markdown",
   "metadata": {},
   "source": [
    "Sistemas que apresentam as características de **linearidade** e **invariância no tempo** são chamados de **Sistemas Lineares Invariantes no Tempo** (SLIT’s)."
   ]
  },
  {
   "cell_type": "markdown",
   "metadata": {
    "deletable": true,
    "editable": true
   },
   "source": [
    "### Decomposição de Sinais Discretos em Impulsos Unitários"
   ]
  },
  {
   "cell_type": "markdown",
   "metadata": {},
   "source": [
    "Podemos representar qualquer sinal discreto no tempo por uma soma de impulsos unitários deslocados no tempo e escalados pelas amplitudes das respectivas amostras. Exemplo: seja o sinal discreto no tempo representado na Figura 4:"
   ]
  },
  {
   "cell_type": "markdown",
   "metadata": {
    "deletable": true,
    "editable": true
   },
   "source": [
    "<figure>\n",
    "<img src=\"img\\fig.4.png\"\n",
    "     alt=\"Sinal discreto no tempo\">\n",
    "  <figcaption align=center>\n",
    "    **Figura 4** - Sinal Discreto no Tempo\n",
    "  </figcaption>\n",
    "</figure>"
   ]
  },
  {
   "cell_type": "markdown",
   "metadata": {},
   "source": [
    "Podemos representar cada amostra não nula de $x[n]$ em termos de impulsos unitários, como se segue:"
   ]
  },
  {
   "cell_type": "markdown",
   "metadata": {},
   "source": [
    "$$\n",
    "\\begin{matrix}\n",
    " x[-1].\\delta[n+1]=\\left\\{\n",
    " \\begin{matrix}\n",
    "   x[-1],\\;\\;\\;n=-1\\\\\n",
    "   0,\\;\\;\\;\\;\\;\\;\\;\\;n\\neq-1\n",
    " \\end{matrix}\\right.\\\\\n",
    " x[0].\\delta[n]=\\left\\{\n",
    " \\begin{matrix}\n",
    "   x[0],\\;\\;\\;n=0\\\\\n",
    "   0,\\;\\;\\;\\;\\;\\;\\;\\;n\\neq0\n",
    " \\end{matrix}\\right.\\\\\n",
    " x[1].\\delta[n-1]=\\left\\{\n",
    " \\begin{matrix}\n",
    "    x[1],\\;\\;\\;n=1\\\\\n",
    "    0,\\;\\;\\;\\;\\;\\;\\;\\;n\\neq1\n",
    " \\end{matrix}\\right.\n",
    "\\end{matrix}\n",
    "$$"
   ]
  },
  {
   "cell_type": "markdown",
   "metadata": {},
   "source": [
    "Assim, podemos representar todo o sinal x[n] decomposto em impulsos unitários por:"
   ]
  },
  {
   "cell_type": "markdown",
   "metadata": {},
   "source": [
    "$$x[n]=x[-1].\\delta[n+1]+x[0].\\delta[n]+x[1].\\delta[n11]$$"
   ]
  },
  {
   "cell_type": "markdown",
   "metadata": {},
   "source": [
    "Podemos generalizar essa representação para qualquer sinal discreto:"
   ]
  },
  {
   "cell_type": "markdown",
   "metadata": {
    "deletable": true,
    "editable": true
   },
   "source": [
    "$$\n",
    "x[n]=...+x[-2].\\delta[n+2]+x[-1].\\delta[n+1]+x[0].\\delta[n]+x[1].\\delta[n11]+x[2].\\delta[n-2]+...\n",
    "$$\n",
    "$$\n",
    "x[n]=\\sum_{k=-\\infty}^{+\\infty}x[k].\\delta[n-k]\n",
    "$$\n"
   ]
  },
  {
   "cell_type": "markdown",
   "metadata": {
    "deletable": true,
    "editable": true
   },
   "source": [
    "### A Operação de Convolução"
   ]
  },
  {
   "cell_type": "markdown",
   "metadata": {},
   "source": [
    "A **Resposta ao Impulso Unitário** de um sistema discreto é a saída provocada por uma entrada de amplitude unitária aplicada no tempo zero, **$n = 0$**. A **Resposta ao Impulso Unitário** descreve completamente o comportamento dinâmico de um determinado SLIT (Figura 5). "
   ]
  },
  {
   "cell_type": "markdown",
   "metadata": {},
   "source": [
    "<figure>\n",
    "<img src=\"img\\fig.5.png\"\n",
    "     alt=\"Resposta do SLIT ao sinal Impulso Unitário\">\n",
    "  <figcaption align=center>\n",
    "    **Figura 5** - Resposta do SLIT ao sinal Impulso Unitário\n",
    "  </figcaption>\n",
    "</figure>"
   ]
  },
  {
   "cell_type": "markdown",
   "metadata": {},
   "source": [
    "Supondo que o operador de transformação linear, $T\\{\\cdot\\}$ descreva o comportamento do SLIT no qual é aplicada a entrada $x[n]$, e usando a Equação (3) para representar a entrada $x[n]$ decomposta em impulsos unitários, teremos como saída do sistema o sinal $y[n]$:"
   ]
  },
  {
   "cell_type": "markdown",
   "metadata": {},
   "source": [
    "$$\n",
    "y[n]=T\\left\\{\\sum_{k=-\\infty}^{+\\infty}x[k].\\delta[n-k]\\right\\}\n",
    "$$"
   ]
  },
  {
   "cell_type": "markdown",
   "metadata": {},
   "source": [
    "Agora, usando a propriedade da linearidade (homogeneidade e aditividade) para trocar o operador de transformação do sistema, $T\\{\\cdot\\}$, com o somatório, obtemos:"
   ]
  },
  {
   "cell_type": "markdown",
   "metadata": {
    "deletable": true,
    "editable": true
   },
   "source": [
    "$$\n",
    "y[n]=\\sum_{k=-\\infty}^{+\\infty}x[k].T\\left\\{\\delta[n-k]\\right\\}=\\sum_{k=-\\infty}^{+\\infty}x[k].h_k[n]\n",
    "$$"
   ]
  },
  {
   "cell_type": "markdown",
   "metadata": {},
   "source": [
    "em que $h_k[n]=T\\{\\delta[n-k\\}$ é a resposta do sistema a um impulso unitário aplicado no tempo $k$. Supondo que o sistema seja invariante ao tempo, então um deslocamento temporal no sinal da entrada resulta em um mesmo deslocamento de tempo no sinal de saída. Isto implica em que a *saída provocada por um impulso deslocado no tempo* também será uma versão da resposta do sistema ao impulso na origem deslocada do mesmo tempo; ou seja, $h_k[n]=h_0[n-k]$. Admitindo que $h[n]=h_0[n]$ seja a resposta ao impulso do sistema $T\\{\\cdot\\}$ do tipo SLIT. Assim, a Equação (5) pode ser reescrita como:"
   ]
  },
  {
   "cell_type": "markdown",
   "metadata": {
    "deletable": true,
    "editable": true
   },
   "source": [
    "$$\n",
    "y[n]=\\sum_{k=-\\infty}^{+\\infty}x[k].h[n-k]\n",
    "$$"
   ]
  },
  {
   "cell_type": "markdown",
   "metadata": {},
   "source": [
    "Assim, a saída de um SLIT para uma dada entrada x[n] é dada pela **soma ponderada de respostas ao impulso deslocadas no tempo**. A soma na Equação (6) é chamada de **soma da convolução** e essa operação é indicada pelo símbolo $\\ast$ (asterisco), ou seja:"
   ]
  },
  {
   "cell_type": "markdown",
   "metadata": {
    "deletable": true,
    "editable": true
   },
   "source": [
    "$$\n",
    "y[n]=x[n] \\ast h[n] = \\sum_{k=-\\infty}^{+\\infty}x[k].h[n-k]\n",
    "$$"
   ]
  },
  {
   "cell_type": "markdown",
   "metadata": {},
   "source": [
    "A convolução de um sinal de tempo contínuo $x(t)$ pela resposta impulsiva de um SLITC, $h(t)$, por analogia, pode ser expressa por:"
   ]
  },
  {
   "cell_type": "markdown",
   "metadata": {
    "deletable": true,
    "editable": true
   },
   "source": [
    "$$\n",
    "y(t)=x(t) \\ast h(t) = \\int_{-\\infty}^{+\\infty}x(\\tau).h(t-\\tau)d\\tau\n",
    "$$"
   ]
  },
  {
   "cell_type": "markdown",
   "metadata": {},
   "source": [
    "#### Exemplo"
   ]
  },
  {
   "cell_type": "markdown",
   "metadata": {},
   "source": [
    "Cálculo da convolução de sinais discretos: entrada $x[n]$ aplicada ao SLIT descrito por sua resposta ao impulso $h[n]$:"
   ]
  },
  {
   "cell_type": "markdown",
   "metadata": {},
   "source": [
    "$$x[n]=u[n]-u[n-4]\\;\\;\\;\\;$$ e \n",
    "$$h[n]=\\left\\{\n",
    "\\begin{matrix}\n",
    "  n,\\;\\;\\;\\;\\;\\;\\;\\;0 \\leq n \\leq 3\\\\\n",
    "  0,\\;\\;\\;\\textrm{outros valores}\n",
    "\\end{matrix}\\right.\n",
    "$$"
   ]
  },
  {
   "cell_type": "markdown",
   "metadata": {},
   "source": [
    "<figure  height=100>\n",
    "  <img src=\"img\\fig.6.png\">\n",
    "</figure>"
   ]
  },
  {
   "cell_type": "markdown",
   "metadata": {},
   "source": [
    "O índice $k$ varia de 0 a 3, pois somente nestas situações é que $x[k]$ será diferente de zero (e igual a um), não sendo, portanto, necessário avaliar a soma para outros valores da variável $k$."
   ]
  },
  {
   "cell_type": "markdown",
   "metadata": {},
   "source": [
    "### Procedimentos"
   ]
  },
  {
   "cell_type": "markdown",
   "metadata": {},
   "source": [
    "<ol><li>Calcule a convolução do Exemplo 1 para $-10 \\leq n \\leq 10$, e trace os gráficos dos sinais usados/produzidos no exemplo."
   ]
  },
  {
   "cell_type": "code",
   "execution_count": 2,
   "metadata": {
    "collapsed": true,
    "deletable": true,
    "editable": true
   },
   "outputs": [],
   "source": [
    "% matplotlib inline"
   ]
  },
  {
   "cell_type": "code",
   "execution_count": 3,
   "metadata": {
    "collapsed": false,
    "deletable": true,
    "editable": true
   },
   "outputs": [
    {
     "data": {
      "image/png": "[encoded data removed]",
      "text/plain": [
       "<matplotlib.figure.Figure at 0x8f34990>"
      ]
     },
     "metadata": {},
     "output_type": "display_data"
    },
    {
     "data": {
      "image/png": "[encoded data removed]",
      "text/plain": [
       "<matplotlib.figure.Figure at 0x922cb90>"
      ]
     },
     "metadata": {},
     "output_type": "display_data"
    }
   ],
   "source": [
    "'''Convolução de sinais discretos'''\n",
    "import numpy as np\n",
    "import matplotlib.pylab as plt\n",
    "\n",
    "def degrau(x):\n",
    "    y = np.zeros(len(x))\n",
    "    for i in xrange(0,len(x)):\n",
    "        if x[i] >= 0:\n",
    "            y[i] = 1.\n",
    "    return y\n",
    "\n",
    "n = np.arange(-10,11)                   # base temporal (abscissas)\n",
    "x = degrau(n) - degrau(n-4)\t            # ordenadas do sinal de entrada\n",
    "h = np.zeros(len(n))                \n",
    "h[10:14] = np.array([0,1,2,3])          # resposta ao impulso do SLITD\n",
    "y = np.convolve(x,h)                    # saida (convolução entre x e h): y = x*h\n",
    "m = np.arange(-20,len(y)-20)            # base de tempo do sinal resultante: y\n",
    "\n",
    "plt.figure(1)\n",
    "plt.subplot(3,1,1); plt.stem(n,degrau(n)); plt.ylim(-0.2,1.2)\n",
    "plt.subplot(3,1,2); plt.stem(n,degrau(n-4)); plt.ylim(-0.2,1.2)\n",
    "plt.subplot(3,1,3); plt.stem(n,x); plt.ylim(-0.2,1.2)\n",
    "\n",
    "plt.figure(2)\n",
    "plt.subplot(3,1,1); plt.stem(n,x); plt.ylim(-0.2,1.2)\n",
    "plt.subplot(3,1,2); plt.stem(n,h); plt.ylim(-0.6,3.6)\n",
    "plt.subplot(3,1,3); plt.stem(m,y); plt.ylim(-1.2,7.2)\n",
    "plt.show()"
   ]
  },
  {
   "cell_type": "markdown",
   "metadata": {
    "deletable": true,
    "editable": true
   },
   "source": [
    "<ol><li value=2>calcule a convolução entre $x[n]=0,5^nu[n]$ e $h[n]=u[n]$, para $-5 \\leq n \\leq 5$.\n",
    "</ol> \n",
    "\n",
    "Dica Python:\t<span style=\"font-family:Courier New; font-size:1.em;\">n = arange(-5,6); x = (0.5\\*\\*n)\\*degrau(n)</span>\n"
   ]
  },
  {
   "cell_type": "code",
   "execution_count": null,
   "metadata": {
    "collapsed": true,
    "deletable": true,
    "editable": true
   },
   "outputs": [],
   "source": [
    "# Seu script aqui..."
   ]
  },
  {
   "cell_type": "markdown",
   "metadata": {
    "deletable": true,
    "editable": true
   },
   "source": [
    "<ol><li value=3>Idem para $x[n]=2.u[n+2]-2.u[n-12]$ e $h[n]=0,9^n\\{u[n-2]-u[n-13]\\}$, para $-15 \\leq n \\leq 15$.</ol>"
   ]
  },
  {
   "cell_type": "code",
   "execution_count": null,
   "metadata": {
    "collapsed": true,
    "deletable": true,
    "editable": true
   },
   "outputs": [],
   "source": [
    "# Seu script aqui..."
   ]
  },
  {
   "cell_type": "markdown",
   "metadata": {
    "deletable": true,
    "editable": true
   },
   "source": [
    "<ol><li value=4>Esboce a saída de um SLITD, descrito por sua resposta impulsiva, $h[n]$ = {1, 3, 5, 7, **9**, 7, 5, 3, 1}, quando o sinal de entrada for $x[n]=5.cos(0,2\\pi.n)$, para $-5 \\leq n \\leq 25$.</ol>"
   ]
  },
  {
   "cell_type": "markdown",
   "metadata": {},
   "source": [
    "By **Prof. Cláudio A. Fleury**, Mar/19."
   ]
  }
 ],
 "metadata": {
  "kernelspec": {
   "display_name": "Python 2",
   "language": "python",
   "name": "python2"
  },
  "language_info": {
   "codemirror_mode": {
    "name": "ipython",
    "version": 2
   },
   "file_extension": ".py",
   "mimetype": "text/x-python",
   "name": "python",
   "nbconvert_exporter": "python",
   "pygments_lexer": "ipython2",
   "version": "2.7.9"
  }
 },
 "nbformat": 4,
 "nbformat_minor": 2
}
