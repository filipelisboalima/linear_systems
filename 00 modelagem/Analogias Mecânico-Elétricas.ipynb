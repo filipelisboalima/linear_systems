{
 "cells": [
  {
   "cell_type": "markdown",
   "metadata": {
    "deletable": true,
    "editable": true
   },
   "source": [
    "# <a style=\"color:#F06030\">Modelagem de Sistemas</a>\n",
    "Dois sistemas são considerados análogos um ao outro se as duas condições dadas a seguir são satisfeitas:\n",
    "<ul><li>Os dois sistemas são fisicamente diferentes.</li>\n",
    "<li>A modelagem de equações diferenciais desses dois sistemas é a mesma.</li> \n",
    "\n",
    "Sistemas elétricos e sistemas mecânicos são dois sistemas fisicamente diferentes. Existem dois tipos de analogias elétricas para sistemas mecânicos translacionais: analogia da **força-tensão** e analogia da **força-corrente**.\n",
    "\n",
    "## Analogias Mecânico-Elétricas\n",
    "\n",
    "**Analogias mecânico-elétricas** são representações de <a style=\"color:blue\">sistemas mecânicos translacionais</a><a style=\"color:black\"></a> como redes elétricas. No passado, tais analogias foram usadas ao contrário para ajudar a explicar fenômenos elétricos (menos comuns) em termos mecânicos (mais familiares). **James Clerk Maxwell** introduziu analogias desse tipo no século XIX. No entanto, à medida que a análise da rede elétrica amadureceu, descobriu-se que certos problemas mecânicos poderiam ser mais facilmente resolvidos por meio de uma analogia elétrica. Desenvolvimentos teóricos no domínio elétrico que foram particularmente úteis onde a representação de uma rede elétrica como um diagrama topológico abstrato (**diagrama de circuito**) usando o modelo de elementos concentrados e a capacidade de análise de rede para sintetizar uma rede que atendesse a uma função de frequência desejada.\n",
    "\n",
    "Essa técnica de usar sistemas elétricos **análogos** aos mecânicos pode ser usada para resolver problemas puramente mecânicos e também pode ser estendida para outros domínios de energia. Atualmente, a análise por analogia é uma ferramenta de projeto padrão onde mais de um domínio de energia está envolvido. A **analogia** tem a grande vantagem de que todo o sistema pode ser representado de forma unificada e coerente. \n",
    "\n",
    "**Analogias elétricas** são particularmente usadas por projetistas de transdutores, por sua natureza, eles cruzam domínios de energia, e em sistemas de controle, cujos sensores e atuadores normalmente serão transdutores de cruzamento de domínio. Um determinado sistema sendo representado por uma analogia elétrica pode não ter partes elétricas. Por essa razão, a terminologia de domínio neutro é preferida ao desenvolver diagramas de rede para sistemas de controle.\n",
    "\n",
    "As **analogias mecânico-elétricas** são desenvolvidas encontrando-se relações entre variáveis num domínio que tem uma forma matemática idêntica às variáveis no outro domínio. Não há uma maneira única de fazer isso; numerosas analogias são teoricamente possíveis, mas existem duas analogias que são amplamente usadas: a **analogia da impedância** e a **analogia da mobilidade**. A analogia da impedância torna a **força** e a **tensão** análogas, enquanto a analogia da mobilidade torna a **força** e **corrente** análoga. Por si só, isso não é suficiente para definir completamente a analogia, uma segunda variável deve ser escolhida. Uma escolha comum é fazer pares de variáveis conjugadas de potência análogas. Estas são variáveis que, quando multiplicadas redundam em grandeza de potência. Na analogia da impedância, por exemplo, isso resulta em **força** e **velocidade** sendo análogas à **tensão** e à **corrente**, respectivamente.\n",
    "\n",
    "Variações dessas analogias são usadas para <a style=\"color:blue\">sistemas mecânicos rotativos</a><a style=\"color:black\"></a>, como em motores elétricos. Na analogia da impedância, em vez de força, o torque é feito de forma análoga à tensão. É perfeitamente possível que ambas as versões da analogia sejam necessárias em, digamos, um sistema que inclui peças rotativas e alternantes, caso em que é necessária uma analogia força-torque dentro do domínio mecânico e uma analogia força-torque-tensão para o domínio elétrico. \n",
    "\n",
    "Outra variação é necessária para <a style=\"color:blue\">sistemas acústicos</a><a style=\"color:black\"></a>; aqui pressão e tensão são feitas análogas (analogia de impedância). Na analogia da impedância, a relação das variáveis conjugadas de potência é sempre uma grandeza análoga à impedância elétrica. Por exemplo força/velocidade é a impedância mecânica. A analogia da mobilidade não preserva essa analogia entre impedâncias nos diversos domínios, mas tem outras vantagens sobre a analogia da impedância. Na analogia da mobilidade, a topologia das redes é preservada, um diagrama de rede mecânico tem a mesma topologia que seu diagrama de rede elétrica análogo."
   ]
  },
  {
   "cell_type": "markdown",
   "metadata": {
    "deletable": true,
    "editable": true
   },
   "source": [
    "|<img src=\"img/Analogia_Mobilidade_Ressonador_Vertical.png\"; float=left; padding: 5px; width=150>|<img src=\"img/Analogia_Impedância_Ressonador_Vertical.png\"; float=right; padding: 5px;  width=250>|\n",
    "| :--: | :--: |\n",
    "|**Fig. 1** - Diagrama de Sist. Mecânico de um **Ressonador** e Circ. Elétrico Análogo (mobilidade).|**Fig. 2** - Diagrama de Sist. Mecânico de um **Ressonador** e Circ. Elétrico Análogo (impedância).|"
   ]
  },
  {
   "cell_type": "markdown",
   "metadata": {
    "deletable": true,
    "editable": true
   },
   "source": [
    "## Modelagem de Sistemas de Tempo Contínuo\n",
    "<ul><li>Sistemas Dinâmicos</li>\n",
    "São descritos por equações diferenciais que relacionam variáveis de entrada(s) e saída(s), quando possuem interrelacionamento do tipo **linear**, ou linearizável, e invariantes no tempo contínuo (**SLITC**) . Essas equações podem ser convertidas em equações algébricas (solução mais simples) pela aplicação da *Transformada de Laplace*.\n",
    "\n",
    "<p>A descrição do Sistema por sua equação diferencial ocorre a partir da análise dos fenômenos físicos que regem o comportamento (dinâmica) do sistema em questão, como por exemplo:\n",
    "<ul style=\"list-style-type:square;\"><li>Equações (leis) de Newton - para modelagem da dinâmica de sistemas mecânicos;</li>\n",
    "<li>Equações (leis) de Kirchhoff - para modelagem da dinâmica de sistemas elétricos.</li></ul></ul>"
   ]
  },
  {
   "cell_type": "markdown",
   "metadata": {
    "deletable": true,
    "editable": true
   },
   "source": [
    "## Modelos\n",
    "| Sistema | Variável<p>Transmitida | Variável Txda<p><center>Integrada | Variável<p><center>Interna | Var. Interna<p><center>Integrada |\n",
    "|  :-:  | :-: | :-: | :-: | :-: | \n",
    "|<div style=\"color:blue; text-align:center\"> Elétrico </div>| Corrente | Carga | Tensão | - |\n",
    "|<div style=\"color:blue; text-align:center\">Mecânico<p>Translacional</div> | Força | Momento<p><center>linear | Velocidade | Deslocamento<p><center>linear |\n",
    "|<div style=\"color:blue; text-align:center\">Mecânico<p><center>Rotacional</div> | Torque | Momento<p><center>angular | Velocidade<p><center>angular | Deslocamento<p><center>angular |\n",
    "|<p style=\"color:blue; text-align:center\"> Hidráulico | Vazão | Volume | Pressão | - |\n",
    "|<p style=\"color:blue; text-align:center\"> Térmico | Calor | Energia<p><center>Térmica | Temperatura | - |\n",
    "<hr style=\"height: 1px; color: blue; background-color: cyan;\">"
   ]
  },
  {
   "cell_type": "markdown",
   "metadata": {
    "deletable": true,
    "editable": true
   },
   "source": [
    "### <a style=\"color:green\">Sistema Mecânico: Massa+Mola+Amortecedor</a>\n",
    "<img src=\"img/massa+mola+amortecedor.png\">\n",
    "**Figura 3** - Sistema Mecânico: Massa + Mola + Amortecedor"
   ]
  },
  {
   "cell_type": "markdown",
   "metadata": {
    "deletable": true,
    "editable": true
   },
   "source": [
    "Aplicando a Segunda Lei de Newton ao sistema mecânico, temos:\n",
    "\n",
    "$$F(t)=M.a(t)$$\n",
    "$$f(t)-f_B(t)-f_K(t)=M.a(t)$$\n",
    "$$f(t)-B\\frac{dx(t)}{dt}-K.x(t)=M.\\frac{d^2x(t)}{dt^2}$$\n",
    "\n",
    "Reordenando os termos da equação, considerando a força $f(t)$ no bloco como sendo a entrada (causa) e o deslocamento do bloco como sendo a saída do sistema (efeito), então a equação diferencial representativa desse SLITC é:\n",
    "\n",
    "$$M\\frac{d^2x(t)}{dt^2}+B\\frac{dx(t)}{dt}+K.x(t)=f(t) \\tag 1$$\n",
    "\n",
    "Considerando a força $f(t)$ no bloco como sendo a entrada (causa) e a velocidade do bloco como sendo a saída (efeito) do SLITC, temos:\n",
    "\n",
    "$$M\\frac{dv(t)}{dt}+B.v(t)+K\\int_0^tx(\\tau)d\\tau=f(t) \\tag 2$$"
   ]
  },
  {
   "cell_type": "markdown",
   "metadata": {
    "deletable": true,
    "editable": true
   },
   "source": [
    "### <a style=\"color:green\">Sistema Elétrico Análogo 1: RLC Paralelo</a>\n",
    "<img src=\"img/rlc_paralelo.png\"; alt=\"img/rlc_paralelo.png\"; width=300>\n",
    "**Figura 4** - Sistema Elétrico: Resistor / Indutor / Capacitor "
   ]
  },
  {
   "cell_type": "markdown",
   "metadata": {
    "deletable": true,
    "editable": true
   },
   "source": [
    "Lei dos Nós de Kirchhoff:\n",
    "$$i(t)=i_R(t)+i_L(t)+i_C(t)$$\n",
    "$$i(t)=\\frac{v(t)}{R}+\\frac{1}{L}\\int_0^tv(\\tau)d\\tau+C\\frac{dv(t)}{dt}$$\n",
    "Reordenando os termos:\n",
    "$$C\\frac{dv(t)}{dt}+\\frac{v(t)}{R}+\\frac{1}{L}\\int_0^tv(\\tau)d\\tau=i(t) \\tag 3$$"
   ]
  },
  {
   "cell_type": "markdown",
   "metadata": {
    "deletable": true,
    "editable": true
   },
   "source": [
    "### Equivalência entre os Sistemas Mecânico e Elétrico\n",
    "#### Analogia Força-Corrente (Eq.2 e Eq.3)\n",
    "$v(t)$ é a velocidade do bloco de massa $M$:\n",
    "$$M.\\frac{dv(t)}{dt}+B.v(t)+K\\int_0^tx(\\tau)d\\tau=f(t)$$\n",
    "$v(t)$ é a tensão elétrica no circuito RLC-Paralelo:\n",
    "$$C\\frac{dv(t)}{dt}+\\frac{v(t)}{R}+\\frac{1}{L}\\int_0^tv(\\tau)d\\tau=i(t)$$"
   ]
  },
  {
   "cell_type": "markdown",
   "metadata": {
    "deletable": true,
    "editable": true
   },
   "source": [
    "Considerando:\n",
    "- $v_C(t)$, tensão inicial no capacitor nula\n",
    "- $v(t)$, velocidade inicial do bloco nula\n",
    "- e os sistemas após a excitação inicial tem força externa nula e corrente de fonte nula\n",
    "\n",
    "Pode-se calcular a saída (resposta ao impulso unitário) desses sistemas:\n",
    "\n",
    "$$v(t)=c.e^{-\\alpha t}sen(\\beta.t-\\theta)$$\n",
    "\n",
    "onde as constantes $c, \\alpha, \\beta$ e $\\theta$ assumem os seguintes valores, para cada sistema:\n",
    "\n",
    "|<div style=\"color:blue\">Sistema| c | $\\alpha$ | $\\beta$ | $\\theta$</div> |\n",
    "| :-:   |:-:|   :-:    |  :-:    |   :-:   |\n",
    "|Massa-Mola-<p style=\"text-align:center\">Amortecedor|$v_0\\frac{2\\sqrt{K.M}}{\\sqrt{4K.M-B^2}}$| $\\frac{B}{2M}$ | $\\frac{\\sqrt{4K.M-B^2}}{2M}$ | $tan^{-1}\\frac{\\sqrt{4K.M-B^2}}{B}$ |\n",
    "|Resistor-Indutor-<p style=\"text-align:center\">Capacitor|$v_0\\frac{2R\\sqrt{C}}{\\sqrt{4R^2C-L}}$| $\\frac{1}{2RC}$ | $\\frac{\\sqrt{4R^2C-L}}{2RC\\sqrt L}$ | $tan^{-1}\\frac{\\sqrt{4R^2C-L}}{L}$ |"
   ]
  },
  {
   "cell_type": "markdown",
   "metadata": {
    "deletable": true,
    "editable": true
   },
   "source": [
    "<img src=\"img/sub.png\"; width=400>\n",
    "**Figura 5** - Resposta do Sistema Subamortecido."
   ]
  },
  {
   "cell_type": "markdown",
   "metadata": {
    "deletable": true,
    "editable": true
   },
   "source": [
    "### Sistema Elétrico Análogo 2: RLC Série\n",
    "<img src=\"img/rlc_série.jpg\", alt=\"Figura do circuito RLC Série\"; width=300>\n",
    "**Figura 6** - Sistema Elétrico: Resistor + Indutor + Capacitor"
   ]
  },
  {
   "cell_type": "markdown",
   "metadata": {
    "deletable": true,
    "editable": true
   },
   "source": [
    "Aplicando a Lei das Malhas de Kirchhoff:\n",
    "\n",
    "$$R.i(t)+L\\frac{di(t)}{dt}+\\frac{1}{C}\\int_{-\\infty}^ti(\\tau)d\\tau=v(t)$$\n",
    "\n",
    "Usando $i(t)=\\frac{dq(t)}{dt}$ na equação anterior, temos:\n",
    "\n",
    "$$L\\frac{d^2q(t)}{dt}+R.\\frac{dq(t)}{dt}+\\frac{1}{C}q(t)=v(t) \\tag 4$$\n",
    "\n",
    "Compare as equações 1 e 4 e veja as semelhanças...\n",
    "<hr style=\"height: 1px; color: blue; background-color: cyan;\">"
   ]
  },
  {
   "cell_type": "markdown",
   "metadata": {
    "deletable": true,
    "editable": true
   },
   "source": [
    "### <a style=\"color:blue\"> Experimento - Pêndulo Simples</a>\n",
    "\n",
    "#### <a style=\"color:blue\">Objetivos</a>\n",
    "- Verificação das propriedades de um sistema linear e não linear.\n",
    "- Iterpretação física do conceito de estabilidade.\n",
    "\n",
    "#### <a style=\"color:blue\">Modelo</a>\n",
    "O pêndulo consiste de um bloco esférico de massa $M$ rigidamente acoplado à um eixo através de uma haste de comprimento $L$. O bloco se movimenta ao redor do eixo que apresenta um coeficiênte de atrito viscoso $k$. O deslocamento angular do bloco no sentido anti-horário é representado por $\\theta$. A força $f(t)$ aplicada ao bloco é tangencial a trajetória, visto não existir movimento na direção normal à trajetória (haste rígida), como mostrado na figura seguinte. \n",
    "<img src=\"img\\pêndulo.png\", width=250>\n",
    "O modelo matemático que descreve a dinâmica do pêndulo é obtido pela somatória de forças no bloco que deve ser nula.\n",
    "- Força peso na direção tangencial ($g$ é a aceleração da gravidade): $$m.g.sen(\\theta)$$\n",
    "- Força de atrito viscoso: $$k.L\\frac{d\\theta(t)}{dt}$$\n",
    "- Força inercial do bloco: $$m.L\\frac{d^2\\theta(t)}{dt^2}$$\n",
    "\n",
    "Primeira Lei de Newton (somatório das forças igual a zero): $$\\sum_iF_i=0$$\n",
    "$$m.g.sen(\\theta)+k.L\\frac{d\\theta(t)}{dt}+m.L\\frac{d^2\\theta(t)}{dt^2}=f(t) \\tag 5$$"
   ]
  },
  {
   "cell_type": "markdown",
   "metadata": {
    "deletable": true,
    "editable": true
   },
   "source": [
    "Para se obter o diagrama de simulação de uma equação diferencial de ordem $n$ usamos $n$ integradores (no domínio de Laplace: $1/s$) em cascata, representando as $n$ derivadas sucessivas presentes na equação diferencial. Em seguida, usamos a própria equação diferencial para exprimir a derivada de maior ordem como soma de termos envolvendo as derivadas de menor ordem. Para o pêndulo temos:\n",
    "$$\\frac{d^2\\theta(t)}{dt^2}=\\frac{f(t)}{m.L}-\\frac{g}{L}.sen(\\theta(t))-\\frac{k}{m}\\frac{d\\theta(t)}{dt}$$\n",
    "<img src=\"img\\diagrama de blocos.png\", width=450>"
   ]
  },
  {
   "cell_type": "markdown",
   "metadata": {
    "deletable": true,
    "editable": true
   },
   "source": [
    "Podemos observar que a variável de saída do sistema pêndulo simples depende de uma relação não linear da variável de entrada, por causa da função seno, configurando portanto, um sistema não linear.\n",
    "#### <a style=\"color:blue\">Linearização</a>\n",
    "Modelos não lineares descrevem com fidelidade os fenômenos físicos, porém, tais modelos são relativamente complicados, e com raras excessões, são utilizados para fins de projeto de\n",
    "sistemas de controle. Nesses casos, em geral, utiliza-se um modelo linearizado que ainda seja capaz de representar o sistema físico numa certa faixa de funcionamento. \n",
    "\n",
    "No caso do pêndulo simples, a função seno pode ser representada por sua série de Taylor:\n",
    "\n",
    "$$sen(\\alpha)=\\alpha-\\frac{\\alpha^3}{3!}+\\frac{\\alpha^5}{5!}-\\dots$$\n",
    "\n",
    "Dessa expressão vemos que $sen(\\alpha)\\approx\\alpha$ para pequenos valores do ângulo $\\alpha$ rad. \n",
    "\n",
    "Essa aproximação, em que se despreza os termos não lineares da série, é chamada de **linearização** da função $sen(\\alpha)$. Usando essa aproximação na Eq. 5, temos:\n",
    "\n",
    "$$m.g.\\theta(t)+k.L\\frac{d\\theta(t)}{dt}+m.L\\frac{d^2\\theta(t)}{dt^2}=f(t) \\tag 6$$\n",
    "\n",
    "Para pequenos valores do ângulo $\\theta$, o modelo linearizado e o não linear fornecem praticamente a mesma informação da variação do ângulo em função da força $f(t)$ e das condições iniciais. No entanto, para ângulos maiores que 30$^\\circ$ as diferenças entre os dois modelos começam a ser significativas.\n",
    "\n",
    "#### <a style=\"color:blue\">Modelo Linear</a>\n",
    "O diagrama de simulação do modelo linear para o pêndulo simples é obtido a partir da seguinte equação:\n",
    "\n",
    "$$\\frac{d^2\\theta(t)}{dt^2}=\\frac{f(t)}{m.L}-\\frac{g}{L}.\\theta(t)-\\frac{k}{m}\\frac{d\\theta(t)}{dt}$$\n",
    "\n",
    "<img src=\"img\\modelo_linear.png\", width=450>\n",
    "\n",
    "#### <a style=\"color:blue\">Exercícios:</a>\n",
    "<ol><li>Obtenha a resposta do pêndulo à uma força constante (degrau unitário), com condições iniciais nulas, usando o modelo linearizado. Calcule o valor da posição posição angular ($\\theta(t)$) do pêndulo em regime permanente (equilíbrio).</li>\n",
    "<li>Obtenha a resposta do pêndulo às condições iniciais: $\\frac{d\\theta(0)}{dt}=0$, $\\theta(0)=0,5$ rad/s, com $f(t)=0$.</li>\n",
    "<li>Verifique que a resposta para um degrau unitário e $\\frac{d\\theta(0)}{dt}=0$, $\\theta(0)=0,5$ rad/s é idêntica à soma das respostas obtidas nos dois itens anteriores, isto é, o **princípio da superposição** dos efeitos se mantém válido para sistemas lineares.</li>\n",
    "<li>Verifique que o modelo linearizado representa um sistema estável, isto é, os pólos da função de transferência possuem parte real negativa. Isto implica que o ângulo do pêndulo, no modelo linearizado, sempre voltará ao ponto de equilíbrio (origem), qualquer que seja a condição inicial do movimento do pêndulo.</li>"
   ]
  },
  {
   "cell_type": "markdown",
   "metadata": {
    "collapsed": true,
    "deletable": true,
    "editable": true
   },
   "source": [
    "Fontes:\n",
    "- https://www.tutorialspoint.com/control_systems/control_systems_electrical_analogies_mechanical.htm\n",
    "\n",
    "Prof. Cláudio A. Fleury, Jun/2019."
   ]
  }
 ],
 "metadata": {
  "kernelspec": {
   "display_name": "Python 2",
   "language": "python",
   "name": "python2"
  },
  "language_info": {
   "codemirror_mode": {
    "name": "ipython",
    "version": 2
   },
   "file_extension": ".py",
   "mimetype": "text/x-python",
   "name": "python",
   "nbconvert_exporter": "python",
   "pygments_lexer": "ipython2",
   "version": "2.7.9"
  }
 },
 "nbformat": 4,
 "nbformat_minor": 2
}
