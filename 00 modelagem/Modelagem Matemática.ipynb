{
 "cells": [
  {
   "cell_type": "markdown",
   "metadata": {
    "deletable": true,
    "editable": true
   },
   "source": [
    "# Modelagem Matemática"
   ]
  },
  {
   "cell_type": "markdown",
   "metadata": {
    "deletable": true,
    "editable": true
   },
   "source": [
    "## Sistemas Mecânicos"
   ]
  },
  {
   "cell_type": "markdown",
   "metadata": {
    "deletable": true,
    "editable": true
   },
   "source": [
    "### Elementos Básicos"
   ]
  },
  {
   "cell_type": "markdown",
   "metadata": {
    "deletable": true,
    "editable": true
   },
   "source": [
    "Para um dado corpo, temos:\n",
    "- Posição: $$x(t)$$\n",
    "- Velocidade: $$v(t)=\\frac{d}{dt}x(t)$$\n",
    "- Aceleração: $$a(t)=\\frac{d}{dt}v(t)=\\frac{d^2}{dt^2}x(t)$$\n",
    "- 2a. Lei de Newton: <p>A soma das forças num corpo de massa $m$, movendo apenas num eixo, faz ele acelerar:\n",
    "<p>$$\\sum_k F_k(t)=m.a(t)$$"
   ]
  },
  {
   "cell_type": "markdown",
   "metadata": {
    "deletable": true,
    "editable": true
   },
   "source": [
    "Muitos componentes mecânicos obedecem às leis físicas que podem ser expressas por **Equações Diferenciais**:\n",
    "- Mola: $$F_k(t)=-k_m.x_k(t)$$\n",
    "\n",
    "onde: $k_m$ é a constante da mola; $x_k(t)$ é o deslocamento da mola (extensão ou compressão).\n",
    "\n",
    "- Amortecedor: $$F_k(t)=-k_d.\\frac{d}{dt}x_k(t)$$\n",
    "\n",
    "onde: $k_d$ é a viscosidade do amortecedor; e um $x(t)$ positivo corresponde a uma extensão do amortecedor.\n",
    "\n",
    "Um **amortecedor** (*dashpot*) é um dispositivo mecânico que resiste ao movimento por fricção viscosa. A força resultante é proporcional à velocidade, mas age na direção oposta, diminuindo o movimento e absorvendo energia. É comumente usado em conjunto com uma mola (que age para resistir ao deslocamento). A fig.1 mostra um conjunto massa-mola-dashpot."
   ]
  },
  {
   "cell_type": "markdown",
   "metadata": {
    "deletable": true,
    "editable": true
   },
   "source": [
    "<img src=\"img/mola-massa-dashpot.png\"; height=100; width=250>\n",
    "<center>**Fig.1** - Conjunto Mola-Massa-Amortecedor </center>\n",
    "<hr>"
   ]
  },
  {
   "cell_type": "markdown",
   "metadata": {
    "deletable": true,
    "editable": true
   },
   "source": [
    "### Exemplo 1 - Velocidade do Veículo"
   ]
  },
  {
   "cell_type": "markdown",
   "metadata": {
    "deletable": true,
    "editable": true
   },
   "source": [
    "<img src=\"img/carro_veloc.png\"; height=300; width=500>\n",
    "<center>**Fig.2** - Sistema de Velocidade do Veículo.</center>"
   ]
  },
  {
   "cell_type": "markdown",
   "metadata": {
    "collapsed": true,
    "deletable": true,
    "editable": true
   },
   "source": [
    "Considere um veículo sujeito à força do motor $F_1(t)$ e ao arrasto provocado pelo vento $F_2(t)$ proporcional à velocidade: $$F_2(t)=-k.v(t)=-k.\\frac{d}{dt}x(t)$$\n",
    "\n",
    "E a aceleração é a taxa de mudança da velocidade no tempo: $$a(t)=\\frac{d}{dt}v(t)$$"
   ]
  },
  {
   "cell_type": "markdown",
   "metadata": {
    "deletable": true,
    "editable": true
   },
   "source": [
    "Pela 2a. Lei de Newton nós temos a relação entre a força gerada pelo motor do veículo, $F_1(t)=f(t)$, e sua velocidade,$v(t)$:\n",
    "$$F_1(t)-F_2(t)=m.a(t)$$\n",
    "$$f(t)-k.v(t)=m.\\frac{d}{dt}v(t)$$\n",
    "\n",
    "Reagrupando os termos comuns: $$\\frac{d}{dt}v(t)+\\frac{k}{m}v(t)=\\frac{1}{m}f(t)$$"
   ]
  },
  {
   "cell_type": "markdown",
   "metadata": {
    "deletable": true,
    "editable": true
   },
   "source": [
    "### Exemplo 2 - Suspensão do Veículo"
   ]
  },
  {
   "cell_type": "markdown",
   "metadata": {
    "deletable": true,
    "editable": true
   },
   "source": [
    "<img src=\"img/carro_estrada.png\"; height=300; width=500>\n",
    "<center>**Fig.3** - Sistema de Suspensão de Veículo - absorção de impactos em viagem por estrada irregular.</center>"
   ]
  },
  {
   "cell_type": "markdown",
   "metadata": {
    "collapsed": true,
    "deletable": true,
    "editable": true
   },
   "source": [
    "Conjunto de três forças atuantes no veículo:\n",
    "- Gravidade: $$F_1(t)=m.g$$\n",
    "\n",
    "- Mola: $$F_2(t)=-k_m\\left[y(t)-x(t)\\right]$$\n",
    "- Amortecedor: $$F_3(t)=-k_d\\frac{d}{dt}\\left[y(t)-x(t)\\right]$$"
   ]
  },
  {
   "cell_type": "markdown",
   "metadata": {
    "deletable": true,
    "editable": true
   },
   "source": [
    "Pela 2a. Lei de Newton: $$F_1(t)+F_2(t)+F_3(t)=m.a(t)$$\n",
    "$$m.g-k_m\\left[y(t)-x(t)\\right]-k_d\\frac{d}{dt}\\left[y(t)-x(t)\\right]=m.\\frac{d^2}{dt^2}y(t)$$\n",
    "\n",
    "Reagrupando os termos comuns: $$\\frac{d^2}{dt^2}y(t)+\\frac{k_d}{m}\\frac{d}{dt}y(t)+\\frac{k_m}{m}y(t)=\\frac{k_d}{m}\\frac{d}{dt}x(t)+\\frac{k_m}{m}x(t)+g$$"
   ]
  },
  {
   "cell_type": "markdown",
   "metadata": {
    "deletable": true,
    "editable": true
   },
   "source": [
    "### Exemplo 3 - Tanque d'Água"
   ]
  },
  {
   "cell_type": "markdown",
   "metadata": {
    "deletable": true,
    "editable": true
   },
   "source": [
    "<img src=\"img/tanque.png\"; height=300; width=600>\n",
    "<center>**Fig.4** - Sistema de Tanque d'Água.</center>"
   ]
  },
  {
   "cell_type": "markdown",
   "metadata": {
    "collapsed": true,
    "deletable": true,
    "editable": true
   },
   "source": [
    "Considere um tanque d'água de base circular com área de superfície **A** m$^2$, sujeito a um fluxo de entrada de $x(t)$ [m$^3$/s] e com um fluxo de saída de $y(t)$  [m$^3$/s]. O volume total de água no tanque em qualquer instante é:\n",
    "$$V(t)=A.h(t)$$\n",
    "\n",
    "Portanto: $$\\frac{d}{dt}V(t)=A.\\frac{d}{dt}h(t)=x(t)-y(t)$$"
   ]
  },
  {
   "cell_type": "markdown",
   "metadata": {
    "deletable": true,
    "editable": true
   },
   "source": [
    "A taxa do fluxo de saída, $y(t)$, é proporcional à pressão no fundo do tanque, que por sua vez é proporcional à altura da água, $h(t)$: \n",
    "<p><center>$y(t)=K.h(t)$ para algum $K \\in \\mathbb{R}^+$</center>\n",
    "\n",
    "Portanto, o modelo final é:\n",
    "$$\\frac{A}{K}.\\frac{d}{dt}y(t)+y(t)=x(t)$$"
   ]
  },
  {
   "cell_type": "markdown",
   "metadata": {
    "deletable": true,
    "editable": true
   },
   "source": [
    "### Exemplo 4 - Tanques d'Água Acoplados"
   ]
  },
  {
   "cell_type": "markdown",
   "metadata": {
    "deletable": true,
    "editable": true
   },
   "source": [
    "<img src=\"img/tanque_acoplado.png\"; height=400; width=900>\n",
    "<center>**Fig.5** - Sistema de Tanques d'Água Acoplados.</center>"
   ]
  },
  {
   "cell_type": "markdown",
   "metadata": {
    "collapsed": true,
    "deletable": true,
    "editable": true
   },
   "source": [
    "Considere dois tanques d'água acoplados, ambos de base circular com áreas de superfície $A_1$ e $A_2$ m$^2$, respectivamente. O primeiro está sujeito a um fluxo de entrada de $x(t)$ [m$^3$/s] e com fluxo de saída de $u(t)$  [m$^3$/s]. O segundo está sujeito a um fluxo de entrada de $u(t)$ [m$^3$/s] e com fluxo de saída de $y(t)$  [m$^3$/s].\n",
    "\n",
    "Como no exemplo anterior, temos:\n",
    "$$A_1.\\frac{d}{dt}h_1(t)=x(t)-u(t)$$\n",
    "$$A_2.\\frac{d}{dt}h_2(t)=u(t)-y(t)$$\n",
    "\n",
    "A taxa de fluxo, $u(t)$ é proporcional à diferença de pressão, a qual é proporcional à diferença das alturas, $h_1(t) − h_2(t)$, ou seja:\n",
    "\n",
    "<center>$u(t)= K_1\\left[h_1(t) − h_2(t)\\right]\\;\\;\\;\\;$ para algum $K_1 \\in \\mathbb{R}^+$</center>\n",
    "<p>Obs.:  $u(t)$ pode ser negativo.\n",
    "\n",
    "E a taxa de fluxo de saída do segundo tanque, $y(t)$ é proporcional à altura $h_2(t)$:\n",
    "\n",
    "<center>$y(t)= K_2.h_2(t)\\;\\;\\;\\;$ para algum $K_2 \\in \\mathbb{R}^+$</center>\n",
    "\n",
    "Substituindo as expressões de $u(t)$ e $h_2(t)$:\n",
    "$$A_1.\\frac{d}{dt}h_1(t)=x(t)-K_1\\left[h_1(t)-\\frac{1}{K_2}y(t)\\right]$$\n",
    "$$\\frac{A_2}{K_2}.\\frac{d}{dt}y(t)=K_1\\left[h_1(t)-\\frac{1}{K_2}y(t)\\right]-y(t) \\tag{*}$$ \n",
    "\n",
    "Que pode ser reorganizada como:\n",
    "$$\\frac{d}{dt}h_1(t)=-\\frac{K_1}{A_1}.h_1(t)+\\frac{1}{A_1} \\left[x(t)+\\frac{1}{K_2}y(t)\\right]$$\n",
    "$$h_1(t)=\\frac{A_2}{K_1.K_2}.\\frac{d}{dt}y(t)+\\left(\\frac{K_1+K_2}{K_1.K_2}\\right)y(t)$$\n"
   ]
  },
  {
   "cell_type": "markdown",
   "metadata": {
    "deletable": true,
    "editable": true
   },
   "source": [
    "Diferenciando a Equação (\\*) e substituindo $h_1(t)$, obtemos a a equação diferencial final do modelo, relacionando taxa do fluxo de entrada, $x(t)$, com a taxa do fluxo de saída, $y(t)$: \n",
    "\n",
    "$$\\left(\\frac{A_1A_2}{K_1K_2}\\right).\\frac{d^2}{dt^2}y(t)+\\left(\\frac{A_1+A_2}{K_2}+\\frac{A_1}{K_1}\\right)\\frac{d}{dt}y(t)+y(t)=x(t)$$"
   ]
  },
  {
   "cell_type": "markdown",
   "metadata": {
    "deletable": true,
    "editable": true
   },
   "source": [
    "Para uma ampla classe de fenômenos físicos, os sinais de saída, $y(t)$, e de entrada, $x(t)$, são relacionados por uma equação diferencial ordinária (EDO):\n",
    "\n",
    "$$\\frac{d^n}{dt^n}y(t)+a_{n-1}\\frac{d^{n-1}}{dt^{n-1}}y(t)+...+a_1\\frac{d}{dt}y(t)+a_0y(t) = b_m\\frac{d^m}{dt^m}x(t)+b_{m-1}\\frac{d^{m-1}}{dt^{m-1}}x(t)+...+b_1\\frac{d}{dt}x(t)+b_0x(t) \\tag{1}$$"
   ]
  },
  {
   "cell_type": "markdown",
   "metadata": {
    "deletable": true,
    "editable": true
   },
   "source": [
    "## Prática"
   ]
  },
  {
   "cell_type": "markdown",
   "metadata": {
    "deletable": true,
    "editable": true
   },
   "source": [
    "Também é importante obter uma compreensão da relação entre os sinais $y(t)$ e $x(t)$ que satisfazem (1) de forma simulada usando a linguagem Python, mais especificamente, a função **lsim()** do módulo signal do pacote scipy.\n",
    "\n",
    "A função **scipy.signal.lsim(system, U, T, X0=None, interp=1)** representa a resposta temporal de um **SLIT** (Sistema Linear Invariante no Tempo). Este sistema pode ser contínuo ou discreto. Para um sistema de tempo contínuo, a equação diferencial é integrada a partir do tempo $T(0)$ até $T(len(T))$, começando na condição inicial $X0$ e usando a entrada $U$. O vetor entrada deve ter o mesmo número de elementos do vetor tempo. Se as condições iniciais forem todas zero, $X0$ pode ser omitido.\n",
    "\n",
    "*Parâmetros*:\n",
    "<p style=\"text-indent:20px;\">**system** : uma instância da classe LTI ou uma tupla descrevendo o sistema.\n",
    "<p style=\"text-indent:20px;\">Números de elementos na tupla sugere diferentes representações do sistema:\n",
    "<p style=\"text-indent:40px;\">2 - Representação racional: (num, den) \n",
    "<p style=\"text-indent:40px;\">3 - Polos e Zeros: (zeros, polos, ganho)\n",
    "<p style=\"text-indent:40px;\">4 - Espaço de Estados: (A, B, C, D)\n",
    "\n",
    "<p style=\"text-indent:20px;\">**U** : vetor - um vetor de entrada descrevendo a entrada em cada tempo T (interpolação é assumida entre tempos dados). Se existirem entradas múltiplas, então cada coluna de um arranjo (matriz) de posto 2 representa uma entrada.\n",
    "\n",
    "<p style=\"text-indent:20px;\">**T** : vetor - o passos de tempo nos quais a entrada é definida e nos quais a saída é desejada.\n",
    "\n",
    "<p style=\"text-indent:20px;\">**X0** : condições iniciais no vetor de estados (zero por padrão)\n",
    "\n",
    "<p style=\"text-indent:20px;\">**interp** : 1 ou 0 - se usa interpolação linear (1) ou manutenção de ordem zero (0)\n",
    "\n",
    "*Retornos*:\n",
    "<p style=\"text-indent:20px;\">**T** : vetor unidimensional - valores do tempo para a saída calculada.\n",
    "\n",
    "<p style=\"text-indent:20px;\">**yout** : vetor unidimensional - resposta do sistema.\n",
    "\n",
    "<p style=\"text-indent:20px;\">**xout**: vetor - evolução temporal do vetor de estados.\n"
   ]
  },
  {
   "cell_type": "markdown",
   "metadata": {
    "deletable": true,
    "editable": true
   },
   "source": [
    "### Simulação do Exemplo 2: Sistema de Suspensão do Veículo"
   ]
  },
  {
   "cell_type": "markdown",
   "metadata": {
    "deletable": true,
    "editable": true
   },
   "source": [
    "A relação entre a altura da estrada $x(t)$ e a altura do veículo $y(t)$ (acima do nível do mar) para um carro contendo um sistema amortecedor entre rodas e chassi (suspensão) é dada por:\n",
    "\n",
    "$$\\frac{d^2}{dt^2}y(t)+\\frac{k_d}{m}\\frac{d}{dt}y(t)+\\frac{k_m}{m}y(t)=\\frac{k_d}{m}\\frac{d}{dt}x(t)+\\frac{k_m}{m}x(t)+g \\tag{2}$$\n",
    "\n",
    "Admitindo os seguintes parâmetros:\n",
    "<p>Massa do veículo : $m$  = 1000 kg\n",
    "<p>Constante da mola: $k_m$ = 2000 N/m\n",
    "<p>Viscosidade do amortecedor: $k_d$ = 500 Ns/m\n",
    "\n",
    "Codificando esses valores e as constantes da EDO:"
   ]
  },
  {
   "cell_type": "code",
   "execution_count": 63,
   "metadata": {
    "collapsed": true,
    "deletable": true,
    "editable": true
   },
   "outputs": [],
   "source": [
    "m = 1000.; km = 2000.; kd = 500.\n",
    "a1 = kd/m; a0 = km/m; b1 = kd/m; b0 = km/m"
   ]
  },
  {
   "cell_type": "markdown",
   "metadata": {
    "deletable": true,
    "editable": true
   },
   "source": [
    "Note que até agora, o termo constante $g$ em (2) foi ignorado. Isso ocorre porque seu único efeito é especificar um deslocamento constante (**bias**) na solução final, o que será esclarecido posteriormente, mas é mencionado agora para explicar por que ele não fará parte das simulações a seguir.\n",
    "\n",
    "Para continuar, precisamos agora especificar o experimento que queremos simular. É razoável esperar que o modo pelo qual um sistema de amortecedores lide com um impacto repentino na estrada possa ser de interesse. Isto é, suponha que o sinal da altura da estrada, $x(t)$, seja um sinal de degrau unitário $s(t-1)$ (isto corresponderia a um salto alto de 1m!), de modo que o degrau realmente ocorra em t = 1 segundo. Suponha ainda que estamos interessados em simular o sinal resultante da posição do veículo $y(t)$ ao longo de uma janela de tempo de $t \\in$ [0, 10] s."
   ]
  },
  {
   "cell_type": "code",
   "execution_count": 58,
   "metadata": {
    "collapsed": false,
    "deletable": true,
    "editable": true
   },
   "outputs": [
    {
     "name": "stdout",
     "output_type": "stream",
     "text": [
      "Populating the interactive namespace from numpy and matplotlib\n"
     ]
    },
    {
     "data": {
      "image/png": "[encoded data removed]",
      "text/plain": [
       "<matplotlib.figure.Figure at 0xf577030>"
      ]
     },
     "metadata": {},
     "output_type": "display_data"
    }
   ],
   "source": [
    "% pylab inline\n",
    "from numpy import linspace\n",
    "from pylab import plot, title, ylim\n",
    "t = linspace(0,10,100)\n",
    "x = (t >= 1) * 1.            # sinal de entrada: lombada de 1m de altura!\n",
    "plot(t,x,linewidth=2); title('Entrada: $x(t)$'); ylim((-0.2,1.2)); grid(True)"
   ]
  },
  {
   "cell_type": "markdown",
   "metadata": {
    "deletable": true,
    "editable": true
   },
   "source": [
    "Agora estamos prontos para simular o amortecedor calculando os vetores $a$ e $b$ que especificam os coeficientes do lado esquerdo e direito da equação diferencial (1):"
   ]
  },
  {
   "cell_type": "code",
   "execution_count": 59,
   "metadata": {
    "collapsed": true,
    "deletable": true,
    "editable": true
   },
   "outputs": [],
   "source": [
    "a = [1., a1, a0]    # coef.s do lado esquerdo (saída)\n",
    "b = [b1, b0]       # coef.s do lado direito (entrada)"
   ]
  },
  {
   "cell_type": "markdown",
   "metadata": {
    "deletable": true,
    "editable": true
   },
   "source": [
    "E, em seguida, executando a simulação para calcular o sinal da altura do veículo, $y(t)$ no vetor y:"
   ]
  },
  {
   "cell_type": "code",
   "execution_count": 60,
   "metadata": {
    "collapsed": false,
    "deletable": true,
    "editable": true
   },
   "outputs": [],
   "source": [
    "from scipy.signal import lti, lsim\n",
    "slitc = lti(b,a)\n",
    "y = lsim(slitc,x,t)[1]"
   ]
  },
  {
   "cell_type": "markdown",
   "metadata": {
    "deletable": true,
    "editable": true
   },
   "source": [
    "Para avaliar a resposta calculada, vamos plotar o sinal da entrada, $x(t)$, e o sinal de resposta de altura do veículo, $y(t)$, no mesmo conjunto de eixos: "
   ]
  },
  {
   "cell_type": "code",
   "execution_count": 61,
   "metadata": {
    "collapsed": false,
    "deletable": true,
    "editable": true
   },
   "outputs": [
    {
     "data": {
      "text/plain": [
       "<matplotlib.text.Text at 0xfd622d0>"
      ]
     },
     "execution_count": 61,
     "metadata": {},
     "output_type": "execute_result"
    },
    {
     "data": {
      "image/png": "[encoded data removed]",
      "text/plain": [
       "<matplotlib.figure.Figure at 0xfd41d30>"
      ]
     },
     "metadata": {},
     "output_type": "display_data"
    }
   ],
   "source": [
    "from pylab import legend, xlabel, ylabel, grid\n",
    "plot(t,y,'b-',t,x,'r-.',linewidth=2)\n",
    "legend((u'Alt. do Veiculo: $y(t)$','Alt. da Estrada: $x(t)$'))\n",
    "xlabel('tempo (s)'); ylabel('altura (m)'); grid('on')\n",
    "title(u'Alt. da Estrada e Alt. do Veículo')"
   ]
  },
  {
   "cell_type": "markdown",
   "metadata": {
    "collapsed": false,
    "deletable": true,
    "editable": true
   },
   "source": [
    "A simulação do desempenho do amortecedor do veículo (com $m$ = 1000 kg, $k_m$ = 2000 N/m, $k_d$ = 500 Ns/m), ao subir um dess desnível de 1,0 m de altura, mostrou que o veículo só volta a se estabilizar depois de 10,0 s. \n",
    "\n",
    "Claramente que o nosso projeto inicial de amortecedor de choque é horrível. A oscilação após um solavanco é muito pronunciada, e é precisamente o trabalho de um amortecedor evitar esse tipo de resposta; a altura do carro deve ser restabelecida rapidamente.\n",
    "\n",
    "No entanto, mesmo sem qualquer tipo de experiência nesse sistema, intuitivamente pode parecer razoável aumentar a \"força\" do amortecedor; digamos, o dobro:"
   ]
  },
  {
   "cell_type": "code",
   "execution_count": 53,
   "metadata": {
    "collapsed": false
   },
   "outputs": [
    {
     "data": {
      "text/plain": [
       "<matplotlib.text.Text at 0xf04abd0>"
      ]
     },
     "execution_count": 53,
     "metadata": {},
     "output_type": "execute_result"
    },
    {
     "data": {
      "image/png": "[encoded data removed]",
      "text/plain": [
       "<matplotlib.figure.Figure at 0xf08d950>"
      ]
     },
     "metadata": {},
     "output_type": "display_data"
    }
   ],
   "source": [
    "kd = 1000.\n",
    "a1 = kd/m; b1 = kd/m\n",
    "a = [1,a1,a0]; b= [b1,b0]\n",
    "slitc = lti(b,a)\n",
    "y = lsim(slitc,x,t)[1]\n",
    "plot(t,y,'b-',t,x,'r-.',linewidth=2)\n",
    "legend(u'Alt. do Veículo: $y(t)$','Alt. da Estrada: $x(t)$')\n",
    "xlabel('tempo (s)'); ylabel('altura (m)'); grid('on')\n",
    "title(u'Alt. da Estrada e Alt. do Veículo')"
   ]
  },
  {
   "cell_type": "markdown",
   "metadata": {},
   "source": [
    "Os resultados deste experimento são claramente superiores (estabilização em pouco mais de 6,0 s) aos da primeira simulação, mas ainda assim a resposta parece bastante indutora de náusea para os passageiros. Dobramos a constante de amortecimento novamente?"
   ]
  },
  {
   "cell_type": "code",
   "execution_count": 55,
   "metadata": {
    "collapsed": false
   },
   "outputs": [
    {
     "data": {
      "text/plain": [
       "<matplotlib.text.Text at 0xf857270>"
      ]
     },
     "execution_count": 55,
     "metadata": {},
     "output_type": "execute_result"
    },
    {
     "data": {
      "image/png": "[encoded data removed]",
      "text/plain": [
       "<matplotlib.figure.Figure at 0x8de8af0>"
      ]
     },
     "metadata": {},
     "output_type": "display_data"
    }
   ],
   "source": [
    "kd = 2000.\n",
    "a1 = kd/m; b1 = kd/m\n",
    "a = [1,a1,a0]; b= [b1,b0]\n",
    "slitc = lti(b,a)\n",
    "y = lsim(slitc,x,t)[1]\n",
    "plot(t,y,'b-',t,x,'r-.',linewidth=2)\n",
    "legend((u'Alt. do Veículo: $y(t)$','Alt. da Estrada: $x(t)$'))\n",
    "xlabel('tempo (s)'); ylabel('altura (m)'); grid('on')\n",
    "title(u'Alt. da Estrada e Alt. do Veículo')"
   ]
  },
  {
   "cell_type": "markdown",
   "metadata": {},
   "source": [
    "O desempenho deste último projeto parece aceitável, então nós poderíamos fornecer esses parâmetros de projeto: $k_s$ = 2000, $k_d$ = 2000 como especificação para um amortecedor adequado a um veículo de 1000 kg. No entanto, e se alguém tentar usar esse amortecedor por engano num veículo de 2000 kg? Vamos simular esse cenário:"
   ]
  },
  {
   "cell_type": "code",
   "execution_count": 64,
   "metadata": {
    "collapsed": false
   },
   "outputs": [
    {
     "data": {
      "text/plain": [
       "<matplotlib.text.Text at 0xf247750>"
      ]
     },
     "execution_count": 64,
     "metadata": {},
     "output_type": "execute_result"
    },
    {
     "data": {
      "image/png": "[encoded data removed]",
      "text/plain": [
       "<matplotlib.figure.Figure at 0xfd41d10>"
      ]
     },
     "metadata": {},
     "output_type": "display_data"
    }
   ],
   "source": [
    "m = 2000;\n",
    "a1 = kd/m; a0 = km/m; b1 = kd/m; b0 = km/m\n",
    "a = [1,a1,a0]; b = [b1,b0]\n",
    "slitc = lti(b,a)\n",
    "y = lsim(slitc,x,t)[1]\n",
    "plot(t,y,'b-',t,x,'r-.',linewidth=2)\n",
    "legend((u'Alt. do Veículo: $y(t)$','Alt. da Estrada: $x(t)$'))\n",
    "xlabel('tempo (s)'); ylabel('altura (m)'); grid('on')\n",
    "title(u'Alt. da Estrada e Alt. do Veículo')"
   ]
  },
  {
   "cell_type": "markdown",
   "metadata": {},
   "source": [
    "Claramente, se projetarmos um amortecedor para um peso de veículo, ele não deve ser usado noutro mais pesado sem esperar um desempenho degradado."
   ]
  },
  {
   "cell_type": "markdown",
   "metadata": {},
   "source": [
    "Vamos retornar ao termo constante da EDO (2), $g$, que foi negligenciado. Nos exemplos anteriores de simulação computacional, temos de fato considerado a equação diferencial:\n",
    "$$\\frac{d^2}{dt^2}y(t)+\\frac{k_d}{m}\\frac{d}{dt}y(t)+\\frac{k_m}{m}y(t)=\\frac{k_d}{m}\\frac{d}{dt}x(t)+\\frac{k_m}{m}x(t)\\tag{3}$$\n",
    "\n",
    "Entretanto, observe que se temos um sinal $y(t)$ que satisfaz a equação diferencial (3), então este sinal pode ser usado para definir um novo sinal $z(t)$ como:\n",
    "\n",
    "$$z(t)=y(t)+\\frac{m.g}{k_m}$$\n",
    "\n",
    "que, via equação (3) e desde que a derivada temporal de uma constante é zero, deve satisfazer:\n",
    "\n",
    "$$\\frac{d^2}{dt^2}z(t)+\\frac{k_d}{m}\\frac{d}{dt}z(t)+\\frac{k_m}{m}z(t)=\\frac{d^2}{dt^2}y(t)+\\frac{k_d}{m}\\frac{d}{dt}y(t)+\\frac{k_m}{m}y(t)+\\frac{m.g}{k_m}=\\frac{d^2}{dt^2}y(t)+\\frac{k_d}{m}\\frac{d}{dt}y(t)+\\frac{k_m}{m}y(t)+g=\\frac{k_d}{m}\\frac{d}{dt}x(t)+\\frac{k_m}{m}x(t)+g$$\n",
    "\n",
    "Isto é, se $y(t)$ satisfaz a equação diferencial (3) que ignora o termo constante $g$, então uma versão deslocada desta solução $y(t)+m.g/k_m$ satisfaz a equação diferencial original (2).\n",
    "\n",
    "O deslocamento $m.g/k_m$ é, na verdade, apenas a altura em que o veículo ficaria no estado estacionário (por exemplo, quando parado). Para ver isso, defina $x(t) = 0$, $\\frac{d}{dt}x(t) = 0$, $\\frac{d^2}{dt^2}y(t) = 0$, $\\frac{d}{dt}y(t) = 0$ na  equação diferencial (3); isto implica na consideração de uma estrada perfeitamente plana ao nível do mar, juntamente com a altura do carro tendo atingido um estado estacionário não móvel e não acelerado. Então, neste caso, a partir de (3):\n",
    "$$g=\\frac{k_m}{m}y(t)$$\n",
    "\n",
    "Negligenciar o termo $g$ em (3) ao formar simulações significa que estamos simplesmente considerando variações de altura do veículo em torno do estado estacionário, em oposição à altura absoluta do veículo, incluindo um valor de estado estacionário."
   ]
  },
  {
   "cell_type": "markdown",
   "metadata": {},
   "source": [
    "### Anexo 1 - Função Criada pelo Usuário"
   ]
  },
  {
   "cell_type": "markdown",
   "metadata": {},
   "source": [
    "Uma característica óbvia dos exemplos anteriores (especialmente para quem está realmente digitando os comandos indicados) é que havia um bloco comum de operações que precisava ser repetido toda vez que um parâmetro de projeto era alterado. Mesmo com a capacidade de usar a seta para cima ↑ para evitar a re-digitação, ainda é tedioso re-inserir esses comandos. \n",
    "\n",
    "Uma solução é definir uma nova função personalizada que use como argumentos os parâmetros de design $k_m$, $k_d$ e $m$ junto com as especificações $x$ e $t$ de $x(t)$ e, em seguida, retorna um vetor solução $y$ definindo $y(t)$ enquanto plota a resposta. \n",
    "\n",
    "Ou seja, gostaríamos de obter os resultados de uma escolha particular de parâmetros de projeto, não tendo que redigitar todos os comandos necessários... mas sim por algum tipo de comando sucinto como:\n",
    "\n",
    "suspensao(km,kd,m,x,t)\n",
    "\n",
    "onde **suspensao** é o nome à nossa função personalizada."
   ]
  },
  {
   "cell_type": "code",
   "execution_count": 68,
   "metadata": {
    "collapsed": false
   },
   "outputs": [
    {
     "data": {
      "image/png": "[encoded data removed]",
      "text/plain": [
       "<matplotlib.figure.Figure at 0x10393fd0>"
      ]
     },
     "metadata": {},
     "output_type": "display_data"
    }
   ],
   "source": [
    "def suspensao(km,kd,m,x,t):\n",
    "    ''' Função que calcula a absorção de choque pela suspensão de um veículo\n",
    "        x,t = vetores especificando alturas da estrada, ou seja, x(k) é a altura da estrada no tempo t = t(k)\n",
    "        km = constante de rigidez da mola (N/m)\n",
    "        kd = viscosidade do amortecedor (Ns/m)\n",
    "        m = massa do veículo (kg).\n",
    "        Adaptação: Prof. Cláudio Fleury, Mai/2019\n",
    "        Baseada na função shock() escrita por Brett Ninness, Department of EE & CE, Univ. of Newcastle, Australia.\n",
    "    '''\n",
    "    a1 = kd/m; a0 = km/m; b1 = kd/m; b0 = km/m\n",
    "    a = [1,a1,a0]; b= [b1,b0]\n",
    "    slitc = lti(b,a)\n",
    "    y = lsim(slitc,x,t)[1]\n",
    "    plot(t,y,'b-',t,x,'r-.')\n",
    "    legend((u'Alt. do Veículo: $y(t)$','Alt. da Estrada: $x(t)$'))\n",
    "    xlabel('tempo (s)'); ylabel('altura (m)'); grid('on')\n",
    "    title(u'Alt. da Estrada e Alt. do Veículo')\n",
    "    return y\n",
    "    \n",
    "t = linspace(0,10,100)\n",
    "x = (t >= 1) * 1.            # sinal de entrada: lombada de 1m de altura!\n",
    "y = suspensao(2000.,500.,1000.,x,t)\n"
   ]
  },
  {
   "cell_type": "markdown",
   "metadata": {},
   "source": [
    "### Anexo 2 - Representação de SLITC's em Espaco de Estados"
   ]
  },
  {
   "cell_type": "markdown",
   "metadata": {},
   "source": [
    "Geralmente $n,m>1$ em:\n",
    "$$\\frac{d^n}{dt^n}y(t)+a_{n-1}\\frac{d^{n-1}}{dt^{n-1}}y(t)+...+a_1\\frac{d}{dt}y(t)+a_0y(t) = b_m\\frac{d^m}{dt^m}x(t)+b_{m-1}\\frac{d^{m-1}}{dt^{m-1}}x(t)+...+b_1\\frac{d}{dt}x(t)+b_0x(t) \\tag{1}$$\n",
    "\n",
    "Descrições de espaço de estados reduzem equações diferenciais escalares de alta ordem para vetores de primeira ordem. \n",
    "O vetor associado é conhecido como **vetor de estado** e sua dimensão é igual a $n$. \n",
    "A vantagem da redução à equação diferencial vetorial de primeira ordem é a capacidade de fornecer soluções mais simples.\n",
    "\n",
    "Considere uma equação diferencial de segunda ordem ($n = 2, m = 1$):\n",
    "\n",
    "$$\\frac{d^2}{dt^2}y(t)+a_1\\frac{d}{dt}y(t)+a_0y(t) = b_1\\frac{d}{dt}x(t)+b_0x(t)$$\n",
    "\n",
    "Pode ser reescrita como:\n",
    "\n",
    "$$\\frac{d}{dt}\\left[\\frac{d}{dt}y(t)+a_1y(t)-b_1x(t)\\right]+a_0y(t) = b_0x(t)$$\n",
    "\n",
    "Introduzindo novos sinais:  $\\;\\;\\;x_1(t)\\stackrel{\\Delta}{=}y(t)\\;\\;\\;$ e $\\;\\;\\;x_2(t)\\stackrel{\\Delta}{=}\\frac{d}{dt}y(t)+a_1y(t)-b_1x(t)$\n",
    "\n",
    "Teremos: <p><center>$\\frac{d}{dt}x_1(t) + a_1x_1(t)-b_1x(t) = x_2(t)\\;\\;$ (definição de $x_2(t)$),</center>\n",
    "\n",
    "<center>$\\frac{d}{dt}x_2(t) + a_0x_1(t) = b_0x(t)\\;\\;$ (eq. original de 2a. ordem)</center>\n",
    "\n",
    "Estas duas equações diferenciais acopladas de primeira ordem podem ser expressas compactamente na forma matricial como:\n",
    "\n",
    "$$\\frac{d}{dt} \\begin{bmatrix}x_1(t)\\\\ x_2(t) \\end{bmatrix} =\n",
    "\\begin{bmatrix} -a_1 & 1 \\\\ -a_0 & 0 \\end{bmatrix}\n",
    "\\begin{bmatrix} x_1(t)\\\\ x_2(t) \\end{bmatrix} + \n",
    "\\begin{bmatrix} b_1 \\\\ b_0 \\end{bmatrix}x(t)$$\n",
    "\n",
    "$$y(t)=\\begin{bmatrix} 1 & 0 \\end{bmatrix}\n",
    "\\begin{bmatrix} x_1(t) \\\\ x_2(t) \\end{bmatrix}$$\n",
    "\n",
    "Em seguida, temos uma descrição do espaço de estados para a equação diferencial de 2ª ordem:\n",
    "\n",
    "$$\\frac{d}{dt} \\mathbf{x}(t) =\\mathbf{A}.\\mathbf{x}(t)+ \\mathbf{B}.u(t)$$\n",
    "$$y(t)=\\mathbf{C}.\\mathbf{x}(t)$$\n",
    "$\\mathbf{x}(t) =\\begin{bmatrix}x_1(t)\\\\ x_2(t) \\end{bmatrix}$, $\\mathbf{A}=\\begin{bmatrix} -a_1 & 1 \\\\ -a_0 & 0 \\end{bmatrix}$, $\\mathbf{B}=\\begin{bmatrix} b_1 \\\\ b_0 \\end{bmatrix}$, $\\mathbf{C}=\\begin{bmatrix} 1 & 0\\end{bmatrix}$ e $u(t)$ é o sinal de entrada."
   ]
  },
  {
   "cell_type": "markdown",
   "metadata": {},
   "source": [
    "A questão final deste documento é como o Python pode ser usado para simular modelos especificados na forma de **Espaço de Estados**. Em primeiro lugar, vamos ver como fazer a conversão do formato da equação diferencial (1) para o formato do espaço de estado:\n",
    "$$\\frac{d}{dt}x(t)=A.x(t)+B.u(t)$$\n",
    "$$y(t)=C.x(t)+D.u(t)$$ \n",
    "onde: $u(t)$ é o sinal de entrada, e $y(t)$ é a resposta do sistema."
   ]
  },
  {
   "cell_type": "code",
   "execution_count": 75,
   "metadata": {
    "collapsed": false
   },
   "outputs": [
    {
     "name": "stdout",
     "output_type": "stream",
     "text": [
      "A = [[-0.25 -1.  ]\n",
      " [ 1.    0.  ]] \n",
      "B = [[ 1.]\n",
      " [ 0.]] \n",
      "C = [[ 0.25  1.  ]] \n",
      "D = [ 0.]\n"
     ]
    }
   ],
   "source": [
    "from scipy.signal import tf2ss\n",
    "a = [1,0.25,1]\n",
    "b = [0.25,1]\n",
    "A,B,C,D = tf2ss(b,a)\n",
    "print 'A =',A,'\\nB =',B,'\\nC =',C,'\\nD =',D"
   ]
  },
  {
   "cell_type": "markdown",
   "metadata": {},
   "source": [
    "Fonte: http://sigpromu.org/brett/elec2400/matlab2.pdf"
   ]
  }
 ],
 "metadata": {
  "kernelspec": {
   "display_name": "Python 2",
   "language": "python",
   "name": "python2"
  },
  "language_info": {
   "codemirror_mode": {
    "name": "ipython",
    "version": 2
   },
   "file_extension": ".py",
   "mimetype": "text/x-python",
   "name": "python",
   "nbconvert_exporter": "python",
   "pygments_lexer": "ipython2",
   "version": "2.7.9"
  }
 },
 "nbformat": 4,
 "nbformat_minor": 2
}
