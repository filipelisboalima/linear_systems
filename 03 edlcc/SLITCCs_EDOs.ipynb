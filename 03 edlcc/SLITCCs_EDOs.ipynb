{
 "cells": [
  {
   "cell_type": "markdown",
   "metadata": {
    "deletable": true,
    "editable": true
   },
   "source": [
    "# SLITC's e EDLCC's"
   ]
  },
  {
   "cell_type": "markdown",
   "metadata": {
    "deletable": true,
    "editable": true
   },
   "source": [
    "## Objetivos"
   ]
  },
  {
   "cell_type": "markdown",
   "metadata": {
    "deletable": true,
    "editable": true
   },
   "source": [
    "<ul><li>Aplicar métodos de solução das Equações Diferenciais Lineares com Coeficientes Constantes (EDLCCs);</li>\n",
    "<li> - Representar Sistemas Lineares Invariantes no Tempo Contínuo (SLITCs) por EDLCCs;</li>\n",
    "<li>Analisar estabilidades externa e interna de SLITCs via solução das EDLCCs.</li></ol>"
   ]
  },
  {
   "cell_type": "markdown",
   "metadata": {
    "deletable": true,
    "editable": true
   },
   "source": [
    "## Fundamentação Teórica"
   ]
  },
  {
   "cell_type": "markdown",
   "metadata": {
    "deletable": true,
    "editable": true
   },
   "source": [
    "### Representação de SLITCs por EDLCCs:\n",
    "\n",
    "Além da Resposta Impulsiva, $h(t)$, outra forma muito usual de se representar **Sistemas Lineares Invariantes no Tempo** (SLITCs) é por meio de **Equações Diferenciais Lineares de Coeficientes Constantes** (EDLCCs). Mostraremos a dedução da EDLCC para um SLITC definido pelo circuito com Amplificador Operacional (Amp-Op) mostrado na Figura 1. "
   ]
  },
  {
   "cell_type": "markdown",
   "metadata": {
    "deletable": true,
    "editable": true
   },
   "source": [
    "<img src=\"img/figura1.png\" alt=\"Circuito Eletrônico com Amp-Op\" height=200 width=500/><figcaption>**Figura 1** - Sistema dinâmico a ser modelado.</figcaption>"
   ]
  },
  {
   "cell_type": "markdown",
   "metadata": {
    "deletable": true,
    "editable": true
   },
   "source": [
    "A EDLCC deve relacionar a variável de saída (nesse caso, a tensão na saída do Amp-Op, $y(t)$) com a variável de entrada do sistema (nesse caso, a tensão em $R_3$, $x(t)$). Os modos característicos da EDLCC do sistema fornecem informações sobre o comportamento da resposta do circuito (análise da estabilidade). \n",
    "\n",
    "Supondo um Amp-Op ideal (ganho diferencial infinito, impedância de entrada infinita e impedância de saída nula) e usando a Lei de Kirchhoff para Correntes  (LKC) no nó **A**, compartilhado pelos ramos com $R_1$, $R_2$, $R_3$ e $C_2$:\n",
    "\n",
    "$$\\frac{x(t)-v(t)}{R_3}+\\frac{y(t)-v(t)}{R_2}+\\frac{0-v(t)}{R_1}-C_2\\frac{dv(t)}{dt}=0 \\tag{1}$$\n",
    "\n",
    "Usando também a LKC na entrada inversora do Amp-Op, nó B:\n",
    "\n",
    "$$\\frac{v(t)}{R_1}+C_1\\frac{dy(t)}{dt}=0 \\tag{2}$$\n"
   ]
  },
  {
   "cell_type": "markdown",
   "metadata": {
    "collapsed": true,
    "deletable": true,
    "editable": true
   },
   "source": [
    "Isolando $v(t)$ na Equação (2): $$v(t)=-R_1C_1\\frac{dy(t)}{dt} \\tag{3}$$"
   ]
  },
  {
   "cell_type": "markdown",
   "metadata": {},
   "source": [
    "Usando a Equação (3) na Equação (1): \n",
    "\n",
    "$$\\frac{dx(t)}{R_3}+\\frac{R_1C_1}{R_3}\\frac{dy(t)}{dt}+\\frac{y(t)}{R_2}+\\frac{R_1C_1}{R_2}\\frac{dy(t)}{dt}+C_1\\frac{dy(t)}{dt}+R_1C_1C_2\\frac{d^2y(t)}{dt^2}=0 \\tag{4}$$"
   ]
  },
  {
   "cell_type": "markdown",
   "metadata": {},
   "source": [
    "Combinando e simplificando os termos da Equação (4), temos: \n",
    "\n",
    "$$\\frac{d^2y(t)}{dt^2}+\\frac{1}{C_2} \\left\\{\\frac{1}{R_1}+\\frac{1}{R_2}+\\frac{1}{R_3}\\right\\}\\frac{dy(t)}{dt}+\\frac{1}{R_1R_2C_1C_2}y(t) =\\frac{-1}{R_1R_3C_1C_2}x(t)$$"
   ]
  },
  {
   "cell_type": "markdown",
   "metadata": {},
   "source": [
    "Assim, deduzimos um modelo matemático (uma EDLCC) que relaciona a tensão de entrada no circuito com a tensão de saída. A solução dessa equação (saída total), $y_T(t)$,  para uma determinada entrada $x(t)$ é formada pela soma da **Resposta à Entrada Nula**, $y_0(t)$, com a **Resposta de Estado Nulo** (sistema em repouso: condições iniciais nulas = sem energia inicial), $y(t)$, devida somente ao sinal na entrada do SLITC, $x(t)$."
   ]
  },
  {
   "cell_type": "markdown",
   "metadata": {},
   "source": [
    "### Resposta à Entrada Nula"
   ]
  },
  {
   "cell_type": "markdown",
   "metadata": {},
   "source": [
    "A **Equação Característica** (E.C.) do SLITC é obtida para entradas nulas, dando origem à solução homogênea da EDLCC, $y_0(t)$, que é a saída devida à energia inicial armazenada no sistema:"
   ]
  },
  {
   "cell_type": "markdown",
   "metadata": {},
   "source": [
    "$$\\frac{d^2y(t)}{dt^2}+\\frac{1}{C_2} \\left\\{\\frac{1}{R_1}+\\frac{1}{R_2}+\\frac{1}{R_3}\\right\\}\\frac{dy(t)}{dt}+\\frac{1}{R_1R_2C_1C_2}y(t) =0 $$"
   ]
  },
  {
   "cell_type": "markdown",
   "metadata": {},
   "source": [
    "O polinômio característico (P.C.) gerado pela EDLCC: \n",
    "\n",
    "$$\\lambda^2+\\frac{1}{C_2} \\left\\{\\frac{1}{R_1}+\\frac{1}{R_2}+\\frac{1}{R_3}\\right\\}\\lambda+\\frac{1}{R_1R_2C_1C_2}y(t) =a\\lambda^2+b\\lambda+c=0 $$"
   ]
  },
  {
   "cell_type": "markdown",
   "metadata": {},
   "source": [
    "As raízes características desse P.C. (de segundo grau, nesse caso), $\\lambda_1$ e $\\lambda_2$, determinam os **modos característicos** do circuito: $e^{\\lambda_1t}\\;$ e $\\;\\;e^{\\lambda_2t}$, cuja combinação linear forma a saída do sistema para entradas nulas, gerada exclusivamente pelas condições iniciais não nulas do sistema (energia armazenada):\n",
    "\n",
    "$$y_0(t)=c_1e^{\\lambda_1t}+c_2e^{\\lambda_2t}\\tag 5$$\n",
    "\n",
    "O cálculo das constantes $c_1$ e $c_2$ é feito a partir de um sistema de equações lineares, formadas a partir das condições inicias do sistema."
   ]
  },
  {
   "cell_type": "markdown",
   "metadata": {},
   "source": [
    "### Resposta de Estado Nulo"
   ]
  },
  {
   "cell_type": "markdown",
   "metadata": {},
   "source": [
    "A solução particular da EDLCC, também conhecida por **Resposta de Estado Nulo**, $y_{e0}(t)$, é formada pelos termos de modos não característicos e é dada pela convolução da entrada $x(t)$ com a **Resposta ao Impulso Unitário** do SLITC, $h(t)$, considerando o sistema em repouso (condições iniciais nulas): \n",
    "\n",
    "$$y_{e0}(t)=x(t)\\ast h(t)$$\n",
    "\n",
    "A Resposta Impulsiva do SLITC pode ser obtida a partir da EDLCC do SLITC, considerando a resposta natural do sistema (ver: Lathi, p.157).\n",
    "\n",
    "$$h(t)=b_0.\\delta(t)+\\mathrm{modos\\;característicos}=b_0.\\delta(t)+P(D).y_n(t).u(t)$$\n",
    "\n",
    "$$h(t)=k.y_0(t)=k\\left(c_1.e^{\\lambda_1t}+c_2.e^{\\lambda_2t}\\right)$$\n",
    "onde: $k=1/(R_1R_2C_1C_2)$ para o circuito da **Figura 1**."
   ]
  },
  {
   "cell_type": "markdown",
   "metadata": {},
   "source": [
    "### Análise de Estabilidade do SLITC"
   ]
  },
  {
   "cell_type": "markdown",
   "metadata": {},
   "source": [
    "Se para toda entrada limitada o SLITC produzir uma saída limitada, então o sistema é dito ser **estável** no sentido BIBO (*Bounded-Input Bounded-Output*). \n",
    "\n",
    "A estabilidade BIBO é vista a partir dos terminais externos do sistema, e por isso ela é chamada de **estabilidade externa** (ou estabilidade de estado nulo). Outra forma de analisar a estabilidade BIBO de um SLITC é verificando se a sua Resposta Impulsiva é absolutamente integrável.\n",
    "\n",
    "$$\\int_{-\\infty}^{\\infty}\\left | h(t) \\right |dt < \\infty$$\n",
    "\n",
    "A **estabilidade interna** (ou estabilidade de entrada nula) analisa o comportamento do sistema visto por dentro. Se alguma condição inicial é aplicada ao sistema e ele eventualmente retorna ao estado nulo, então ele é dito ser **assintoticamente estável** (ou estável no sentido de *Lyapunov*). Se a resposta do sistema crescer sem limite, ele é dito ser **instável**. Se o sistema nem retorna ao estado nulo e nem a resposta cresce indefinidamente, então o sistema é dito ser **marginalmente instável** (oscilante).\n",
    "\n",
    "O critério de estabilidade interna pode ser estabelecido em termos da localização das raízes características do sistema, da seguinte forma:\n",
    "\n",
    "> -\tUm SLITC é **assintoticamente estável** se e somente se todas as raízes características estiverem no semi-plano esquerdo da frequência complexa (parte real negativa). As raízes podem ser repetidas ou não.\n",
    "\n",
    "> -\tUm SLITC é **instável** se e somente se uma ou ambas condições existirem: \n",
    ">> - (i) pelo menos uma raiz está no semi-plano direito (parte real positiva); \n",
    ">> - (ii) existirem raízes repetidas no eixo imaginário.\n",
    "\n",
    "> -\tUm SLITC é **marginalmente estável** se e somente se não existirem raízes no semi-plano direito da frequência complexa (parte real positiva) e existirem raízes não repetidas no eixo imaginário.\n"
   ]
  },
  {
   "cell_type": "markdown",
   "metadata": {},
   "source": [
    "## Material"
   ]
  },
  {
   "cell_type": "markdown",
   "metadata": {},
   "source": [
    "Software para simulação computacional de circuitos lineares: \n",
    "<ul><li>Python, Matlab, Octave, Scilab, Freemat ou Jupyter Notebook</li>\n",
    "<li>Projeto e Simulação de Circuitos Eletrônicos Auxiliado por Computador: Multisim, Proteus (ISIS), Eagle, Spice, ...</li></ul>"
   ]
  },
  {
   "cell_type": "markdown",
   "metadata": {},
   "source": [
    "## Procedimentos"
   ]
  },
  {
   "cell_type": "markdown",
   "metadata": {},
   "source": [
    "### Cálculo dos Modos Característicos do SLITC:"
   ]
  },
  {
   "cell_type": "markdown",
   "metadata": {},
   "source": [
    "<ol><li>Calcule e mostre as raízes características do SLITC (circuito com Amp-Op) na **Figura 1**, considerando resistores de 10 k$\\Omega$ e capacitores de 1 $\\mu$F."
   ]
  },
  {
   "cell_type": "code",
   "execution_count": 32,
   "metadata": {
    "collapsed": false
   },
   "outputs": [
    {
     "name": "stdout",
     "output_type": "stream",
     "text": [
      "[-261.80339887  -38.19660113]\n"
     ]
    }
   ],
   "source": [
    "# Solução do item 1\n",
    "import numpy as np\n",
    "R = np.array([10000, 1e4, 10e3])               # R1 = R2 = R3 = 10000 Ohm\n",
    "C = np.array([0.000001, 1e-6])                 # C1 = C2 = 0.000001 F\n",
    "\n",
    "# cálculo dos coef.s da E.C.\n",
    "a = 1.\n",
    "b = (1./R[0] + 1./R[1] + 1./R[2])/C[1]\n",
    "c = 1./(R[0] * R[1] * C[0] * C[1])\n",
    "PC = np.array([a, b, c])                       # polinômio característico \n",
    "\n",
    "# cálculo das raízes do P.C.\n",
    "rc = np.roots(PC)                              # raízes características\n",
    "print rc,"
   ]
  },
  {
   "cell_type": "markdown",
   "metadata": {},
   "source": [
    "<hr>"
   ]
  },
  {
   "cell_type": "markdown",
   "metadata": {},
   "source": [
    "<ol><li value=2>Crie um *script* que solicite ao usuário a entrada dos valores dos componentes da **Figura 1**: $R_1$, $R_2$, $R_3$, $C_1$ e $C_2$. \n",
    "<p>*Dica*: Comando Python para entrada de dados: <span style=\"font-family:Courier New; font-size:1.em;\">  var = input(\"Mensagem de prompt: \")     </span>(veja Gabarito no final do roteiro).</p></li></ol>\n"
   ]
  },
  {
   "cell_type": "code",
   "execution_count": 31,
   "metadata": {
    "collapsed": false,
    "deletable": true,
    "editable": true
   },
   "outputs": [
    {
     "name": "stdout",
     "output_type": "stream",
     "text": [
      "R[1] (kOhm): 0.1\n",
      "R[2] (kOhm): 0.2\n",
      "R[3] (kOhm): 0.3\n",
      "C[1]   (uF): 100000\n",
      "C[2]   (uF): 200000\n",
      "[  1.00000000e+00   9.16666667e-03   2.50000000e-05]\n",
      "[-0.00458333+0.00199826j -0.00458333-0.00199826j] SLITC estável.\n"
     ]
    }
   ],
   "source": [
    "# Solução do item 2\n",
    "import numpy as np\n",
    "# Entrada de dados via teclado\n",
    "R = np.zeros(3); C = np.zeros(2)\n",
    "for i in range(3):\n",
    "  R[i] = input('R['+str(i+1)+'] (kOhm): '); R[i] *= 10e3\n",
    "for i in range(2):\n",
    "  C[i] = input('C['+str(i+1)+']   (uF): '); C[i] *= 1e-6\n",
    "\n",
    "# cálculo dos coef.s da E.C.\n",
    "a = 1.\n",
    "b = (1./R[0] + 1./R[1] + 1./R[2])/C[1]         # b = 3/(RC)   para R1=R2=R3 e C1=C2\n",
    "c = 1./(R[0] * R[1] * C[0] * C[1])             # c = 1/(RC)^2 para R1=R2=R3 e C1=C2\n",
    "PC = np.array([a, b, c])                       # polinômio característico \n",
    "print PC\n",
    "\n",
    "# cálculo das raízes do P.C.\n",
    "rc = np.roots(PC)                              # raízes características\n",
    "print rc,"
   ]
  },
  {
   "cell_type": "markdown",
   "metadata": {},
   "source": [
    "<ol><li value=3>Determine os valores dos componentes passivos (resistores e capacitores) do circuito da **Figura 1** para gerar (análise matemática das raízes dos P.C.):\n",
    "<p>a.\tRaízes negativas: SLITC estável.\n",
    "<p>b.\tPelo menos uma raiz positiva: SLITC instável.\n",
    "<p>c.\tRaízes distintas com parte real nula: SLITC marginalmente estável. </li></ol>\n",
    "<p><p>Veja *Gabarito* no final desse roteiro.\n",
    "<hr>"
   ]
  },
  {
   "cell_type": "markdown",
   "metadata": {},
   "source": [
    "<ol><li value=4>O que se pode dizer a respeito da estabilidade do SLITC considerado no item 1? \n",
    "<p>E sobre a estabilidade do SLITC modificado, usando $C_1$ = 1 mF e $R_2$ = 500 k$\\Omega$?</li></ol>"
   ]
  },
  {
   "cell_type": "code",
   "execution_count": 33,
   "metadata": {
    "collapsed": false
   },
   "outputs": [
    {
     "name": "stdout",
     "output_type": "stream",
     "text": [
      "R[1] (kOhm): 1\n",
      "R[2] (kOhm): 2\n",
      "R[3] (kOhm): 3\n",
      "C[1]   (uF): 10000\n",
      "C[2]   (uF): 20000\n",
      "[  1.00000000e+00   9.16666667e-03   2.50000000e-05]\n",
      "[-0.00458333+0.00199826j -0.00458333-0.00199826j] SLITC estável.\n"
     ]
    }
   ],
   "source": [
    "# Solução do item 4\n",
    "import numpy as np\n",
    "# Entrada de dados via teclado\n",
    "R = np.zeros(3); C = np.zeros(2)\n",
    "for i in range(3):\n",
    "  R[i] = input('R['+str(i+1)+'] (kOhm): '); R[i] *= 10e3\n",
    "for i in range(2):\n",
    "  C[i] = input('C['+str(i+1)+']   (uF): '); C[i] *= 1e-6\n",
    "\n",
    "# cálculo dos coef.s da E.C.\n",
    "a = 1.\n",
    "b = (1./R[0] + 1./R[1] + 1./R[2])/C[1]         # b = 3/(RC)   para R1=R2=R3 e C1=C2\n",
    "c = 1./(R[0] * R[1] * C[0] * C[1])             # c = 1/(RC)^2 para R1=R2=R3 e C1=C2\n",
    "PC = np.array([a, b, c])                       # polinômio característico \n",
    "print \"Polinômio Característico: \",PC\n",
    "\n",
    "# cálculo das raízes do P.C.\n",
    "rc = np.roots(PC)                              # raízes características\n",
    "print rc,\n",
    "if np.real(rc[0]) < 0 and np.real(rc[1]) < 0:  # raízes no SPE --> Ex.: 1k e 5uF\n",
    "    print \"SLITC estável.\"                     # b^2 > 4ac e -b > sqrt(discriminante)\n",
    "elif any(np.real(rc)>0) or rc[0]==rc[1]:       # raízes no SPD ou raízes repetidas \n",
    "    print \"SLITC instável.\"                    # -b > sqrt(discr.) ou b^2 = 4ac \n",
    "else:\n",
    "    print \"SLITC marginalmente estável.\"       # raízes distintas no eixo vertical"
   ]
  },
  {
   "cell_type": "markdown",
   "metadata": {},
   "source": [
    "Para valores comerciais de resistência e capacitância o sistema (circuito) será sempre estável.\n",
    "\n",
    "Para os valores sugeridos para $C_1$ e $R_2$, a constante de tempo do circuito torna-se muito grande, fazendo com que o circuito só responda ao estímulo da entrada (degrau unitário) depois de muito tempo.\n",
    "<hr>"
   ]
  },
  {
   "cell_type": "markdown",
   "metadata": {
    "deletable": true,
    "editable": true
   },
   "source": [
    "<ol><li value=5>Determine a saída do sistema da **Figura 1** com $R=10k\\Omega$ e $C=10\\mu F$, para uma entrada $x(t)=0,03.u(t-1)$, considerando $0,0\\le t \\le5,0$ s. Considere as seguintes condições iniciais: $y(0)=0\\;$ e $\\;dy(0)/dt=1$.\n",
    "<p>Simule a EDLCC do sistema e comprove o resultado usando um SW do tipo EDA (*Electronic Design-Aided*), **Figura 2**.</li></ol>\n",
    "\n",
    "<img src=\"img/figura2.png\" alt=\"Simulação com EDA.\" height=300 width=1000/><figcaption>**Figura 2** - Simulação de um sistema dinâmico.</figcaption>"
   ]
  },
  {
   "cell_type": "code",
   "execution_count": 63,
   "metadata": {
    "collapsed": false
   },
   "outputs": [
    {
     "name": "stdout",
     "output_type": "stream",
     "text": [
      "Populating the interactive namespace from numpy and matplotlib\n"
     ]
    },
    {
     "data": {
      "text/plain": [
       "<matplotlib.text.Text at 0xad66870>"
      ]
     },
     "execution_count": 63,
     "metadata": {},
     "output_type": "execute_result"
    },
    {
     "data": {
      "image/png": "[encoded data removed]",
      "text/plain": [
       "<matplotlib.figure.Figure at 0xac6a150>"
      ]
     },
     "metadata": {},
     "output_type": "display_data"
    }
   ],
   "source": [
    "# Solução do item 5\n",
    "# Saída de Entrada Nula (Eq.5):      y0(t) = c1.e^(λ1.t) + c2.e^(λ2.t)  e  dy0(t)/dt = c1.λ1.e^(λ1.t) + c2.λ2.e^(λ2.t)\n",
    "# Condições Inicias:  y(0) = 0     -->   0 = c1 + c2                             (A)\n",
    "#                     dy(0)/dt = 1 -->   1 = c1.λ1 + c2.λ2                       (B)\n",
    "#                             -λ1(A)+B:  1 = c2.λ2 - c2.λ1 --> c2 = 1/(λ2 - λ1)  (C)\n",
    "#                           (C) em (A):  c1 = 1/(λ1 - λ2)\n",
    "% pylab inline\n",
    "import pylab as plt\n",
    "plt.subplots(figsize=(10,8))\n",
    "\n",
    "R = np.array([10000, 1e4, 10e3])               # R1 = R2 = R3 = 10 kOhm\n",
    "C = np.array([0.00001, 1e-5])                  # C1 = C2 = 10 uF\n",
    "\n",
    "# cálculo dos coef.s da E.C.\n",
    "a = 1.\n",
    "b = (1./R[0] + 1./R[1] + 1./R[2])/C[1]\n",
    "c = 1./(R[0] * R[1] * C[0] * C[1])\n",
    "PC = np.array([a, b, c])                       # polinômio característico \n",
    "rc = np.roots(PC)                              # raízes características\n",
    "t = np.arange(0,5.01,0.01)\n",
    "\n",
    "# Cálculo da Resposta à Entrada Nula\n",
    "c1 = 1./(rc[0]-rc[1])\n",
    "c2 = 1./(rc[1]-rc[0])\n",
    "y0 = c1*np.exp(rc[0]*t) + c2*np.exp(rc[1]*t)\n",
    "plt.plot(t,y0,label=u'Resp. à Entrada Nula: $y_0(t)$')\n",
    "\n",
    "# Cálculo da Resposta ao Impulso:\n",
    "# h(t) = k.y0(t) onde: k = 1/(R1.R2.C1.C2)\n",
    "h = y0/(R[0]*R[1]*C[0]*C[1])\n",
    "plt.plot(t,h,label='Resp. ao Impulso: $h(t)$')\n",
    "\n",
    "# Cálculo da Resposta de Estado Nulo com x(t) = u(t-1)/10\n",
    "x = np.zeros(len(t))\n",
    "x[t>=1] = 0.03                                    # degrau unitário atrasado de 1 s\n",
    "plt.plot(t,x,label='Degrau Atrasado: $0.03u(t-1)$')\n",
    "ye0 = np.convolve(x,h)\n",
    "plt.plot(t,ye0[:len(t)],label='Resp. de Estado Nulo: $y_{e0}(t)$')\n",
    "plt.legend(); plt.grid(True); plt.xlabel('t (s)'); plt.ylabel(u'Tensão (V)')"
   ]
  },
  {
   "cell_type": "markdown",
   "metadata": {},
   "source": [
    "<hr>"
   ]
  },
  {
   "cell_type": "markdown",
   "metadata": {},
   "source": [
    "<ol><li value=6>Calcule a saída do sistema $y(t)$ do sistema do item 1, usando o método clássico (analítico), com condições iniciais: $d^2y(0)/dt^2=-1$ e $dy(0)/dt=2$ e entrada $x(t)=u(t)–u(t-3)$b.<hr>"
   ]
  },
  {
   "cell_type": "markdown",
   "metadata": {},
   "source": [
    "<ol><li value=7>Sabendo-se que o intervalo de tempo decorrido entre a aplicação do sinal na entrada de um SLITC e o início da resposta na saída dele é chamado de **Constante de Tempo do Sistema**, e é igual à duração da sua Resposta ao Impulso, $T_h$, calcule a frequência de corte de um SLITC com Resposta Impulsiva: $h(t)=u(t)–u(t-0,3)$. \t\n",
    "<p>*Dica*: ver item 2.7-4 do livro-texto (Lathi)."
   ]
  },
  {
   "cell_type": "markdown",
   "metadata": {},
   "source": [
    "## Exercícios"
   ]
  },
  {
   "cell_type": "markdown",
   "metadata": {},
   "source": [
    "<ol><li>Um SLITC com resposta ao impulso $h(t)=u(t+2)-u(t-2)$ recebe uma entrada rampa $x(t)=t.[u(t)-u(t-2)]$:\n",
    "<ol type=\"a\"><li>Determine e trace o gráfico da saída de estado nulo do sistema.</li><li>Este sistema é estável? Este sistema é causal? Justifique suas respostas.</li></li></ol>\n",
    "</ol>"
   ]
  },
  {
   "cell_type": "markdown",
   "metadata": {},
   "source": [
    "<ol><li value=2>Dados digitais são transmitidos a uma taxa de 1 milhão de pulsos por segundo (Mbaud) num certo canal de comunicação. A resposta ao **degrau unitário** $s(t)$ deste canal é mostrada na **Figura 3**.\n",
    "<ol><li>Este canal pode transmitir os dados na taxa necessária? Explique sua resposta.</li>\n",
    "<li>Um sinal de áudio, com componentes frequenciais de até 15 kHz, pode ser transmitido neste canal com uma fidelidade razoável?</li></ol>\n"
   ]
  },
  {
   "cell_type": "markdown",
   "metadata": {},
   "source": [
    "<img src=\"img\\figura3.png\"><figcaption>**Figura 3** - Resposta ao Degrau Unitário.</figcaption>"
   ]
  },
  {
   "cell_type": "markdown",
   "metadata": {},
   "source": [
    "## Gabarito"
   ]
  },
  {
   "cell_type": "markdown",
   "metadata": {},
   "source": [
    "### Procedimento 3"
   ]
  },
  {
   "cell_type": "markdown",
   "metadata": {},
   "source": [
    "<img src=\"img/proc3a.png\"; align=left>\n",
    "<img src=\"img/proc3b.png\"; align=left>\n",
    "<img src=\"img/proc3c.png\"; align=left>"
   ]
  },
  {
   "cell_type": "code",
   "execution_count": null,
   "metadata": {
    "collapsed": true
   },
   "outputs": [],
   "source": []
  }
 ],
 "metadata": {
  "kernelspec": {
   "display_name": "Python 2",
   "language": "python",
   "name": "python2"
  },
  "language_info": {
   "codemirror_mode": {
    "name": "ipython",
    "version": 2
   },
   "file_extension": ".py",
   "mimetype": "text/x-python",
   "name": "python",
   "nbconvert_exporter": "python",
   "pygments_lexer": "ipython2",
   "version": "2.7.9"
  }
 },
 "nbformat": 4,
 "nbformat_minor": 2
}
